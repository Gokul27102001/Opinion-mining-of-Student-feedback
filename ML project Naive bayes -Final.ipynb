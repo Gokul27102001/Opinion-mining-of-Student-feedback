{
 "cells": [
  {
   "cell_type": "markdown",
   "metadata": {},
   "source": [
    "# Importing Required Libraries"
   ]
  },
  {
   "cell_type": "code",
   "execution_count": 61,
   "metadata": {
    "id": "vZya1pnGjVo8"
   },
   "outputs": [],
   "source": [
    "import numpy as np\n",
    "import pandas as pd\n",
    "import matplotlib.pyplot as plt\n",
    "import seaborn as sns"
   ]
  },
  {
   "cell_type": "code",
   "execution_count": 2,
   "metadata": {
    "id": "MqLxNIHf73mU"
   },
   "outputs": [],
   "source": [
    "import numpy as np\n",
    "import os"
   ]
  },
  {
   "cell_type": "markdown",
   "metadata": {},
   "source": [
    "# Reading the Dataset"
   ]
  },
  {
   "cell_type": "code",
   "execution_count": 3,
   "metadata": {
    "id": "b6x24V8ZRxpW"
   },
   "outputs": [],
   "source": [
    "data=pd.read_csv('D:\\ML Project\\Stu Feedback (3).csv')"
   ]
  },
  {
   "cell_type": "code",
   "execution_count": 4,
   "metadata": {
    "colab": {
     "base_uri": "https://localhost:8080/",
     "height": 1000
    },
    "id": "PaH5guKxR7LJ",
    "outputId": "d419e2ec-8d49-429d-a918-95d798d66175"
   },
   "outputs": [
    {
     "data": {
      "text/html": [
       "<div>\n",
       "<style scoped>\n",
       "    .dataframe tbody tr th:only-of-type {\n",
       "        vertical-align: middle;\n",
       "    }\n",
       "\n",
       "    .dataframe tbody tr th {\n",
       "        vertical-align: top;\n",
       "    }\n",
       "\n",
       "    .dataframe thead th {\n",
       "        text-align: right;\n",
       "    }\n",
       "</style>\n",
       "<table border=\"1\" class=\"dataframe\">\n",
       "  <thead>\n",
       "    <tr style=\"text-align: right;\">\n",
       "      <th></th>\n",
       "      <th>Timestamp</th>\n",
       "      <th>Name</th>\n",
       "      <th>Course</th>\n",
       "      <th>Year of Study</th>\n",
       "      <th>Description</th>\n",
       "      <th>Result</th>\n",
       "    </tr>\n",
       "  </thead>\n",
       "  <tbody>\n",
       "    <tr>\n",
       "      <th>0</th>\n",
       "      <td>4/5/2021 13:43</td>\n",
       "      <td>Shruthi J</td>\n",
       "      <td>M.Sc</td>\n",
       "      <td>2</td>\n",
       "      <td>Awesome</td>\n",
       "      <td>positive</td>\n",
       "    </tr>\n",
       "    <tr>\n",
       "      <th>1</th>\n",
       "      <td>4/5/2021 13:43</td>\n",
       "      <td>Vaishali.k</td>\n",
       "      <td>M.Sc</td>\n",
       "      <td>2</td>\n",
       "      <td>80%</td>\n",
       "      <td>positive</td>\n",
       "    </tr>\n",
       "    <tr>\n",
       "      <th>2</th>\n",
       "      <td>4/5/2021 13:45</td>\n",
       "      <td>Kishore Kumar R</td>\n",
       "      <td>M.Sc</td>\n",
       "      <td>2</td>\n",
       "      <td>Not bad.</td>\n",
       "      <td>neutral</td>\n",
       "    </tr>\n",
       "    <tr>\n",
       "      <th>3</th>\n",
       "      <td>4/5/2021 13:46</td>\n",
       "      <td>Karthik</td>\n",
       "      <td>M.Sc</td>\n",
       "      <td>1</td>\n",
       "      <td>good</td>\n",
       "      <td>positive</td>\n",
       "    </tr>\n",
       "    <tr>\n",
       "      <th>4</th>\n",
       "      <td>4/5/2021 13:47</td>\n",
       "      <td>Jayasuriya E</td>\n",
       "      <td>M.Sc</td>\n",
       "      <td>2</td>\n",
       "      <td>I feel great.class are going really well compa...</td>\n",
       "      <td>positive</td>\n",
       "    </tr>\n",
       "    <tr>\n",
       "      <th>...</th>\n",
       "      <td>...</td>\n",
       "      <td>...</td>\n",
       "      <td>...</td>\n",
       "      <td>...</td>\n",
       "      <td>...</td>\n",
       "      <td>...</td>\n",
       "    </tr>\n",
       "    <tr>\n",
       "      <th>65</th>\n",
       "      <td>8/4/2021 10:46</td>\n",
       "      <td>Surya</td>\n",
       "      <td>B.E</td>\n",
       "      <td>2</td>\n",
       "      <td>Good</td>\n",
       "      <td>positive</td>\n",
       "    </tr>\n",
       "    <tr>\n",
       "      <th>66</th>\n",
       "      <td>8/4/2021 7:00</td>\n",
       "      <td>Kavya Kannan</td>\n",
       "      <td>M.Sc</td>\n",
       "      <td>II</td>\n",
       "      <td>It? the best and the most lovable journey that...</td>\n",
       "      <td>positive</td>\n",
       "    </tr>\n",
       "    <tr>\n",
       "      <th>67</th>\n",
       "      <td>12/4/2021 10:04</td>\n",
       "      <td>Janani. T</td>\n",
       "      <td>B.E</td>\n",
       "      <td>III</td>\n",
       "      <td>Good and useful</td>\n",
       "      <td>positive</td>\n",
       "    </tr>\n",
       "    <tr>\n",
       "      <th>68</th>\n",
       "      <td>12/4/2021 10:47</td>\n",
       "      <td>Arun d</td>\n",
       "      <td>M.Sc</td>\n",
       "      <td>I</td>\n",
       "      <td>M</td>\n",
       "      <td>neutral</td>\n",
       "    </tr>\n",
       "    <tr>\n",
       "      <th>69</th>\n",
       "      <td>5/4/2021 22:40</td>\n",
       "      <td>Niranjana</td>\n",
       "      <td>M.Sc</td>\n",
       "      <td>II</td>\n",
       "      <td>Hostel life is the best as far as CIT concerned.</td>\n",
       "      <td>positive</td>\n",
       "    </tr>\n",
       "  </tbody>\n",
       "</table>\n",
       "<p>70 rows × 6 columns</p>\n",
       "</div>"
      ],
      "text/plain": [
       "          Timestamp             Name Course Year of Study  \\\n",
       "0    4/5/2021 13:43        Shruthi J   M.Sc             2   \n",
       "1    4/5/2021 13:43       Vaishali.k   M.Sc             2   \n",
       "2    4/5/2021 13:45  Kishore Kumar R   M.Sc             2   \n",
       "3    4/5/2021 13:46          Karthik   M.Sc             1   \n",
       "4    4/5/2021 13:47     Jayasuriya E   M.Sc             2   \n",
       "..              ...              ...    ...           ...   \n",
       "65   8/4/2021 10:46            Surya    B.E             2   \n",
       "66    8/4/2021 7:00     Kavya Kannan   M.Sc            II   \n",
       "67  12/4/2021 10:04        Janani. T    B.E           III   \n",
       "68  12/4/2021 10:47           Arun d   M.Sc             I   \n",
       "69   5/4/2021 22:40        Niranjana   M.Sc            II   \n",
       "\n",
       "                                          Description     Result  \n",
       "0                                             Awesome  positive   \n",
       "1                                                 80%  positive   \n",
       "2                                            Not bad.    neutral  \n",
       "3                                                good  positive   \n",
       "4   I feel great.class are going really well compa...  positive   \n",
       "..                                                ...        ...  \n",
       "65                                               Good  positive   \n",
       "66  It? the best and the most lovable journey that...  positive   \n",
       "67                                    Good and useful  positive   \n",
       "68                                                  M    neutral  \n",
       "69   Hostel life is the best as far as CIT concerned.  positive   \n",
       "\n",
       "[70 rows x 6 columns]"
      ]
     },
     "execution_count": 4,
     "metadata": {},
     "output_type": "execute_result"
    }
   ],
   "source": [
    "data"
   ]
  },
  {
   "cell_type": "code",
   "execution_count": 5,
   "metadata": {
    "id": "ArQcTeeUaPLR"
   },
   "outputs": [],
   "source": [
    "# Adding new coloumn and changes the result into categorical value for better understading\n",
    "data['res'] = pd.factorize(data.Result)[0]"
   ]
  },
  {
   "cell_type": "code",
   "execution_count": 6,
   "metadata": {
    "colab": {
     "base_uri": "https://localhost:8080/"
    },
    "id": "3im1yYBJa5Z8",
    "outputId": "bcd406ef-1340-4677-c515-6f7202b2620e"
   },
   "outputs": [
    {
     "name": "stdout",
     "output_type": "stream",
     "text": [
      "0     0\n",
      "1     0\n",
      "2     1\n",
      "3     0\n",
      "4     0\n",
      "     ..\n",
      "65    0\n",
      "66    0\n",
      "67    0\n",
      "68    1\n",
      "69    0\n",
      "Name: res, Length: 70, dtype: int64\n"
     ]
    }
   ],
   "source": [
    "print(data['res'])"
   ]
  },
  {
   "cell_type": "code",
   "execution_count": 7,
   "metadata": {
    "colab": {
     "base_uri": "https://localhost:8080/",
     "height": 1000
    },
    "id": "AM8MJfD7bDsS",
    "outputId": "cee3b203-3fb0-4d66-8e87-12e77f682375"
   },
   "outputs": [
    {
     "data": {
      "text/html": [
       "<div>\n",
       "<style scoped>\n",
       "    .dataframe tbody tr th:only-of-type {\n",
       "        vertical-align: middle;\n",
       "    }\n",
       "\n",
       "    .dataframe tbody tr th {\n",
       "        vertical-align: top;\n",
       "    }\n",
       "\n",
       "    .dataframe thead th {\n",
       "        text-align: right;\n",
       "    }\n",
       "</style>\n",
       "<table border=\"1\" class=\"dataframe\">\n",
       "  <thead>\n",
       "    <tr style=\"text-align: right;\">\n",
       "      <th></th>\n",
       "      <th>Timestamp</th>\n",
       "      <th>Name</th>\n",
       "      <th>Course</th>\n",
       "      <th>Year of Study</th>\n",
       "      <th>Description</th>\n",
       "      <th>Result</th>\n",
       "      <th>res</th>\n",
       "    </tr>\n",
       "  </thead>\n",
       "  <tbody>\n",
       "    <tr>\n",
       "      <th>0</th>\n",
       "      <td>4/5/2021 13:43</td>\n",
       "      <td>Shruthi J</td>\n",
       "      <td>M.Sc</td>\n",
       "      <td>2</td>\n",
       "      <td>Awesome</td>\n",
       "      <td>positive</td>\n",
       "      <td>0</td>\n",
       "    </tr>\n",
       "    <tr>\n",
       "      <th>1</th>\n",
       "      <td>4/5/2021 13:43</td>\n",
       "      <td>Vaishali.k</td>\n",
       "      <td>M.Sc</td>\n",
       "      <td>2</td>\n",
       "      <td>80%</td>\n",
       "      <td>positive</td>\n",
       "      <td>0</td>\n",
       "    </tr>\n",
       "    <tr>\n",
       "      <th>2</th>\n",
       "      <td>4/5/2021 13:45</td>\n",
       "      <td>Kishore Kumar R</td>\n",
       "      <td>M.Sc</td>\n",
       "      <td>2</td>\n",
       "      <td>Not bad.</td>\n",
       "      <td>neutral</td>\n",
       "      <td>1</td>\n",
       "    </tr>\n",
       "    <tr>\n",
       "      <th>3</th>\n",
       "      <td>4/5/2021 13:46</td>\n",
       "      <td>Karthik</td>\n",
       "      <td>M.Sc</td>\n",
       "      <td>1</td>\n",
       "      <td>good</td>\n",
       "      <td>positive</td>\n",
       "      <td>0</td>\n",
       "    </tr>\n",
       "    <tr>\n",
       "      <th>4</th>\n",
       "      <td>4/5/2021 13:47</td>\n",
       "      <td>Jayasuriya E</td>\n",
       "      <td>M.Sc</td>\n",
       "      <td>2</td>\n",
       "      <td>I feel great.class are going really well compa...</td>\n",
       "      <td>positive</td>\n",
       "      <td>0</td>\n",
       "    </tr>\n",
       "    <tr>\n",
       "      <th>5</th>\n",
       "      <td>4/5/2021 13:48</td>\n",
       "      <td>Mathew Valan</td>\n",
       "      <td>M.Sc</td>\n",
       "      <td>1</td>\n",
       "      <td>Good\\n</td>\n",
       "      <td>positive</td>\n",
       "      <td>0</td>\n",
       "    </tr>\n",
       "    <tr>\n",
       "      <th>6</th>\n",
       "      <td>4/5/2021 13:49</td>\n",
       "      <td>Agni prasanth M</td>\n",
       "      <td>M.Sc</td>\n",
       "      <td>1</td>\n",
       "      <td>Good\\n</td>\n",
       "      <td>positive</td>\n",
       "      <td>0</td>\n",
       "    </tr>\n",
       "    <tr>\n",
       "      <th>7</th>\n",
       "      <td>4/5/2021 13:49</td>\n",
       "      <td>Naresh Kumar</td>\n",
       "      <td>M.Sc</td>\n",
       "      <td>2</td>\n",
       "      <td>Felt good , but had some issues too. The colle...</td>\n",
       "      <td>positive</td>\n",
       "      <td>0</td>\n",
       "    </tr>\n",
       "    <tr>\n",
       "      <th>8</th>\n",
       "      <td>4/5/2021 13:55</td>\n",
       "      <td>Ridhanya S</td>\n",
       "      <td>M.Sc</td>\n",
       "      <td>2</td>\n",
       "      <td>A growing experience</td>\n",
       "      <td>positive</td>\n",
       "      <td>0</td>\n",
       "    </tr>\n",
       "    <tr>\n",
       "      <th>9</th>\n",
       "      <td>4/5/2021 13:55</td>\n",
       "      <td>DINESHKUMAR S</td>\n",
       "      <td>M.Sc</td>\n",
       "      <td>1</td>\n",
       "      <td>Everything fine</td>\n",
       "      <td>positive</td>\n",
       "      <td>0</td>\n",
       "    </tr>\n",
       "    <tr>\n",
       "      <th>10</th>\n",
       "      <td>4/5/2021 13:55</td>\n",
       "      <td>Mukish S</td>\n",
       "      <td>M.Sc</td>\n",
       "      <td>1</td>\n",
       "      <td>Everything great.</td>\n",
       "      <td>positive</td>\n",
       "      <td>0</td>\n",
       "    </tr>\n",
       "    <tr>\n",
       "      <th>11</th>\n",
       "      <td>4/5/2021 13:57</td>\n",
       "      <td>S.R.Hari shankar</td>\n",
       "      <td>M.Sc</td>\n",
       "      <td>1</td>\n",
       "      <td>Everything is I feel comfortable here</td>\n",
       "      <td>positive</td>\n",
       "      <td>0</td>\n",
       "    </tr>\n",
       "    <tr>\n",
       "      <th>12</th>\n",
       "      <td>4/5/2021 13:57</td>\n",
       "      <td>Sibikshan K</td>\n",
       "      <td>M.Sc</td>\n",
       "      <td>1</td>\n",
       "      <td>Nothing</td>\n",
       "      <td>negative</td>\n",
       "      <td>2</td>\n",
       "    </tr>\n",
       "    <tr>\n",
       "      <th>13</th>\n",
       "      <td>4/5/2021 13:58</td>\n",
       "      <td>Sundaresan CG</td>\n",
       "      <td>M.Sc</td>\n",
       "      <td>1</td>\n",
       "      <td>Sorry, We haven't experienced college yet.</td>\n",
       "      <td>neutral</td>\n",
       "      <td>1</td>\n",
       "    </tr>\n",
       "    <tr>\n",
       "      <th>14</th>\n",
       "      <td>4/5/2021 13:59</td>\n",
       "      <td>suriya prashanna</td>\n",
       "      <td>M.Sc</td>\n",
       "      <td>1</td>\n",
       "      <td>nothing</td>\n",
       "      <td>negative</td>\n",
       "      <td>2</td>\n",
       "    </tr>\n",
       "    <tr>\n",
       "      <th>15</th>\n",
       "      <td>4/5/2021 14:04</td>\n",
       "      <td>Jabustin</td>\n",
       "      <td>B.E</td>\n",
       "      <td>2</td>\n",
       "      <td>Good</td>\n",
       "      <td>positive</td>\n",
       "      <td>0</td>\n",
       "    </tr>\n",
       "    <tr>\n",
       "      <th>16</th>\n",
       "      <td>4/5/2021 14:05</td>\n",
       "      <td>Kishore G K</td>\n",
       "      <td>M.Sc</td>\n",
       "      <td>1</td>\n",
       "      <td>Everything is going fine with online class but...</td>\n",
       "      <td>neutral</td>\n",
       "      <td>1</td>\n",
       "    </tr>\n",
       "    <tr>\n",
       "      <th>17</th>\n",
       "      <td>4/5/2021 14:06</td>\n",
       "      <td>P.Narean Karthick</td>\n",
       "      <td>M.Sc</td>\n",
       "      <td>2</td>\n",
       "      <td>Mostly in online so than I don't interact much</td>\n",
       "      <td>negative</td>\n",
       "      <td>2</td>\n",
       "    </tr>\n",
       "    <tr>\n",
       "      <th>18</th>\n",
       "      <td>4/5/2021 14:07</td>\n",
       "      <td>dhyaneshwaran k</td>\n",
       "      <td>M.Sc</td>\n",
       "      <td>1</td>\n",
       "      <td>we dint experience anything yet.</td>\n",
       "      <td>negative</td>\n",
       "      <td>2</td>\n",
       "    </tr>\n",
       "    <tr>\n",
       "      <th>19</th>\n",
       "      <td>4/5/2021 14:11</td>\n",
       "      <td>Ridhisha</td>\n",
       "      <td>M.Sc</td>\n",
       "      <td>2</td>\n",
       "      <td>Nice environment</td>\n",
       "      <td>positive</td>\n",
       "      <td>0</td>\n",
       "    </tr>\n",
       "    <tr>\n",
       "      <th>20</th>\n",
       "      <td>4/5/2021 14:34</td>\n",
       "      <td>Rohan</td>\n",
       "      <td>M.Sc</td>\n",
       "      <td>2</td>\n",
       "      <td>Nice</td>\n",
       "      <td>positive</td>\n",
       "      <td>0</td>\n",
       "    </tr>\n",
       "    <tr>\n",
       "      <th>21</th>\n",
       "      <td>4/5/2021 14:39</td>\n",
       "      <td>Karthik</td>\n",
       "      <td>B.E</td>\n",
       "      <td>2</td>\n",
       "      <td>Good experience</td>\n",
       "      <td>positive</td>\n",
       "      <td>0</td>\n",
       "    </tr>\n",
       "    <tr>\n",
       "      <th>22</th>\n",
       "      <td>4/5/2021 14:39</td>\n",
       "      <td>Arun</td>\n",
       "      <td>M.Sc</td>\n",
       "      <td>3</td>\n",
       "      <td>Average to good</td>\n",
       "      <td>positive</td>\n",
       "      <td>0</td>\n",
       "    </tr>\n",
       "    <tr>\n",
       "      <th>23</th>\n",
       "      <td>4/5/2021 14:40</td>\n",
       "      <td>Nanda Kishore</td>\n",
       "      <td>M.Sc</td>\n",
       "      <td>2</td>\n",
       "      <td>All are good.It gives a wonderful experience, ...</td>\n",
       "      <td>neutral</td>\n",
       "      <td>1</td>\n",
       "    </tr>\n",
       "    <tr>\n",
       "      <th>24</th>\n",
       "      <td>4/5/2021 14:40</td>\n",
       "      <td>Srijith</td>\n",
       "      <td>M.Sc</td>\n",
       "      <td>2</td>\n",
       "      <td>Library is good and nice climate inside the ca...</td>\n",
       "      <td>positive</td>\n",
       "      <td>0</td>\n",
       "    </tr>\n",
       "    <tr>\n",
       "      <th>25</th>\n",
       "      <td>4/5/2021 14:41</td>\n",
       "      <td>Santhosh</td>\n",
       "      <td>B.E</td>\n",
       "      <td>3</td>\n",
       "      <td>Its almost a wonderful experience</td>\n",
       "      <td>positive</td>\n",
       "      <td>0</td>\n",
       "    </tr>\n",
       "    <tr>\n",
       "      <th>26</th>\n",
       "      <td>4/5/2021 14:52</td>\n",
       "      <td>Nevetha</td>\n",
       "      <td>B.Tech</td>\n",
       "      <td>4</td>\n",
       "      <td>Good college with great atmosphere</td>\n",
       "      <td>positive</td>\n",
       "      <td>0</td>\n",
       "    </tr>\n",
       "    <tr>\n",
       "      <th>27</th>\n",
       "      <td>4/5/2021 14:58</td>\n",
       "      <td>KISHORE.C</td>\n",
       "      <td>B.E</td>\n",
       "      <td>2</td>\n",
       "      <td>Gaining knowledge</td>\n",
       "      <td>positive</td>\n",
       "      <td>0</td>\n",
       "    </tr>\n",
       "    <tr>\n",
       "      <th>28</th>\n",
       "      <td>4/5/2021 14:59</td>\n",
       "      <td>Ilakiya.S</td>\n",
       "      <td>M.Sc</td>\n",
       "      <td>2</td>\n",
       "      <td>Good</td>\n",
       "      <td>positive</td>\n",
       "      <td>0</td>\n",
       "    </tr>\n",
       "    <tr>\n",
       "      <th>29</th>\n",
       "      <td>4/5/2021 15:01</td>\n",
       "      <td>K.gokul ram</td>\n",
       "      <td>M.Sc</td>\n",
       "      <td>2</td>\n",
       "      <td>The college was good at educational</td>\n",
       "      <td>positive</td>\n",
       "      <td>0</td>\n",
       "    </tr>\n",
       "    <tr>\n",
       "      <th>30</th>\n",
       "      <td>4/5/2021 15:01</td>\n",
       "      <td>Nitheyah Raajah S</td>\n",
       "      <td>B.Tech</td>\n",
       "      <td>2</td>\n",
       "      <td>Good regarding Academics... Poor in terms of H...</td>\n",
       "      <td>positive</td>\n",
       "      <td>0</td>\n",
       "    </tr>\n",
       "    <tr>\n",
       "      <th>31</th>\n",
       "      <td>4/5/2021 15:14</td>\n",
       "      <td>S. Madhan</td>\n",
       "      <td>B.Tech</td>\n",
       "      <td>2</td>\n",
       "      <td>Its like again experience school life</td>\n",
       "      <td>positive</td>\n",
       "      <td>0</td>\n",
       "    </tr>\n",
       "    <tr>\n",
       "      <th>32</th>\n",
       "      <td>4/5/2021 15:15</td>\n",
       "      <td>Surya RE</td>\n",
       "      <td>M.Sc</td>\n",
       "      <td>2</td>\n",
       "      <td>Awesome experience</td>\n",
       "      <td>positive</td>\n",
       "      <td>0</td>\n",
       "    </tr>\n",
       "    <tr>\n",
       "      <th>33</th>\n",
       "      <td>4/5/2021 15:23</td>\n",
       "      <td>GK Kiruthik Sabari</td>\n",
       "      <td>B.Tech</td>\n",
       "      <td>2</td>\n",
       "      <td>Nice</td>\n",
       "      <td>positive</td>\n",
       "      <td>0</td>\n",
       "    </tr>\n",
       "    <tr>\n",
       "      <th>34</th>\n",
       "      <td>4/5/2021 15:27</td>\n",
       "      <td>Shanmuga Priya</td>\n",
       "      <td>B.E</td>\n",
       "      <td>2</td>\n",
       "      <td>Kind of fun</td>\n",
       "      <td>positive</td>\n",
       "      <td>0</td>\n",
       "    </tr>\n",
       "    <tr>\n",
       "      <th>35</th>\n",
       "      <td>4/5/2021 15:31</td>\n",
       "      <td>Dhamodaran B</td>\n",
       "      <td>M.Sc</td>\n",
       "      <td>3</td>\n",
       "      <td>Good</td>\n",
       "      <td>positive</td>\n",
       "      <td>0</td>\n",
       "    </tr>\n",
       "    <tr>\n",
       "      <th>36</th>\n",
       "      <td>4/5/2021 15:38</td>\n",
       "      <td>Shamruthi</td>\n",
       "      <td>M.Sc</td>\n",
       "      <td>2</td>\n",
       "      <td>Good but could be better</td>\n",
       "      <td>positive</td>\n",
       "      <td>0</td>\n",
       "    </tr>\n",
       "    <tr>\n",
       "      <th>37</th>\n",
       "      <td>4/5/2021 16:07</td>\n",
       "      <td>Sunmathi</td>\n",
       "      <td>B.E</td>\n",
       "      <td>4</td>\n",
       "      <td>Good</td>\n",
       "      <td>positive</td>\n",
       "      <td>0</td>\n",
       "    </tr>\n",
       "    <tr>\n",
       "      <th>38</th>\n",
       "      <td>4/5/2021 16:08</td>\n",
       "      <td>Suhasini</td>\n",
       "      <td>B.Tech</td>\n",
       "      <td>3</td>\n",
       "      <td>Best</td>\n",
       "      <td>positive</td>\n",
       "      <td>0</td>\n",
       "    </tr>\n",
       "    <tr>\n",
       "      <th>39</th>\n",
       "      <td>4/5/2021 16:14</td>\n",
       "      <td>Saran Prasath A R</td>\n",
       "      <td>M.Sc</td>\n",
       "      <td>2</td>\n",
       "      <td>Good experience</td>\n",
       "      <td>positive</td>\n",
       "      <td>0</td>\n",
       "    </tr>\n",
       "  </tbody>\n",
       "</table>\n",
       "</div>"
      ],
      "text/plain": [
       "         Timestamp                Name  Course Year of Study  \\\n",
       "0   4/5/2021 13:43           Shruthi J    M.Sc             2   \n",
       "1   4/5/2021 13:43          Vaishali.k    M.Sc             2   \n",
       "2   4/5/2021 13:45     Kishore Kumar R    M.Sc             2   \n",
       "3   4/5/2021 13:46             Karthik    M.Sc             1   \n",
       "4   4/5/2021 13:47        Jayasuriya E    M.Sc             2   \n",
       "5   4/5/2021 13:48        Mathew Valan    M.Sc             1   \n",
       "6   4/5/2021 13:49    Agni prasanth M     M.Sc             1   \n",
       "7   4/5/2021 13:49        Naresh Kumar    M.Sc             2   \n",
       "8   4/5/2021 13:55          Ridhanya S    M.Sc             2   \n",
       "9   4/5/2021 13:55       DINESHKUMAR S    M.Sc             1   \n",
       "10  4/5/2021 13:55            Mukish S    M.Sc             1   \n",
       "11  4/5/2021 13:57    S.R.Hari shankar    M.Sc             1   \n",
       "12  4/5/2021 13:57         Sibikshan K    M.Sc             1   \n",
       "13  4/5/2021 13:58       Sundaresan CG    M.Sc             1   \n",
       "14  4/5/2021 13:59    suriya prashanna    M.Sc             1   \n",
       "15  4/5/2021 14:04            Jabustin     B.E             2   \n",
       "16  4/5/2021 14:05        Kishore G K     M.Sc             1   \n",
       "17  4/5/2021 14:06  P.Narean Karthick     M.Sc             2   \n",
       "18  4/5/2021 14:07     dhyaneshwaran k    M.Sc             1   \n",
       "19  4/5/2021 14:11           Ridhisha     M.Sc             2   \n",
       "20  4/5/2021 14:34               Rohan    M.Sc             2   \n",
       "21  4/5/2021 14:39             Karthik     B.E             2   \n",
       "22  4/5/2021 14:39                Arun    M.Sc             3   \n",
       "23  4/5/2021 14:40       Nanda Kishore    M.Sc             2   \n",
       "24  4/5/2021 14:40             Srijith    M.Sc             2   \n",
       "25  4/5/2021 14:41           Santhosh      B.E             3   \n",
       "26  4/5/2021 14:52             Nevetha  B.Tech             4   \n",
       "27  4/5/2021 14:58           KISHORE.C     B.E             2   \n",
       "28  4/5/2021 14:59           Ilakiya.S    M.Sc             2   \n",
       "29  4/5/2021 15:01         K.gokul ram    M.Sc             2   \n",
       "30  4/5/2021 15:01  Nitheyah Raajah S   B.Tech             2   \n",
       "31  4/5/2021 15:14           S. Madhan  B.Tech             2   \n",
       "32  4/5/2021 15:15            Surya RE    M.Sc             2   \n",
       "33  4/5/2021 15:23  GK Kiruthik Sabari  B.Tech             2   \n",
       "34  4/5/2021 15:27      Shanmuga Priya     B.E             2   \n",
       "35  4/5/2021 15:31        Dhamodaran B    M.Sc             3   \n",
       "36  4/5/2021 15:38           Shamruthi    M.Sc             2   \n",
       "37  4/5/2021 16:07            Sunmathi     B.E             4   \n",
       "38  4/5/2021 16:08            Suhasini  B.Tech             3   \n",
       "39  4/5/2021 16:14   Saran Prasath A R    M.Sc             2   \n",
       "\n",
       "                                          Description     Result  res  \n",
       "0                                             Awesome  positive     0  \n",
       "1                                                 80%  positive     0  \n",
       "2                                            Not bad.    neutral    1  \n",
       "3                                                good  positive     0  \n",
       "4   I feel great.class are going really well compa...  positive     0  \n",
       "5                                              Good\\n  positive     0  \n",
       "6                                              Good\\n  positive     0  \n",
       "7   Felt good , but had some issues too. The colle...  positive     0  \n",
       "8                                A growing experience  positive     0  \n",
       "9                                     Everything fine  positive     0  \n",
       "10                                  Everything great.  positive     0  \n",
       "11              Everything is I feel comfortable here  positive     0  \n",
       "12                                            Nothing   negative    2  \n",
       "13         Sorry, We haven't experienced college yet.    neutral    1  \n",
       "14                                            nothing   negative    2  \n",
       "15                                               Good  positive     0  \n",
       "16  Everything is going fine with online class but...    neutral    1  \n",
       "17     Mostly in online so than I don't interact much   negative    2  \n",
       "18                   we dint experience anything yet.   negative    2  \n",
       "19                                  Nice environment   positive     0  \n",
       "20                                               Nice  positive     0  \n",
       "21                                    Good experience  positive     0  \n",
       "22                                    Average to good  positive     0  \n",
       "23  All are good.It gives a wonderful experience, ...    neutral    1  \n",
       "24  Library is good and nice climate inside the ca...  positive     0  \n",
       "25                 Its almost a wonderful experience   positive     0  \n",
       "26                 Good college with great atmosphere  positive     0  \n",
       "27                                  Gaining knowledge  positive     0  \n",
       "28                                               Good  positive     0  \n",
       "29               The college was good at educational   positive     0  \n",
       "30  Good regarding Academics... Poor in terms of H...  positive     0  \n",
       "31             Its like again experience school life   positive     0  \n",
       "32                                Awesome experience   positive     0  \n",
       "33                                               Nice  positive     0  \n",
       "34                                        Kind of fun  positive     0  \n",
       "35                                               Good  positive     0  \n",
       "36                           Good but could be better  positive     0  \n",
       "37                                               Good  positive     0  \n",
       "38                                              Best   positive     0  \n",
       "39                                   Good experience   positive     0  "
      ]
     },
     "execution_count": 7,
     "metadata": {},
     "output_type": "execute_result"
    }
   ],
   "source": [
    "data.head(40)"
   ]
  },
  {
   "cell_type": "code",
   "execution_count": 8,
   "metadata": {
    "colab": {
     "base_uri": "https://localhost:8080/"
    },
    "id": "frjwug7fR8RL",
    "outputId": "4ee48e07-632f-4c6a-fb50-130c2021f5e0"
   },
   "outputs": [
    {
     "data": {
      "text/plain": [
       "(70, 7)"
      ]
     },
     "execution_count": 8,
     "metadata": {},
     "output_type": "execute_result"
    }
   ],
   "source": [
    "#check dimensions of the dataset\n",
    "data.shape"
   ]
  },
  {
   "cell_type": "code",
   "execution_count": 9,
   "metadata": {
    "colab": {
     "base_uri": "https://localhost:8080/"
    },
    "id": "C2gmt0oeSEzp",
    "outputId": "5df73a96-4f8d-43c5-9a5a-7a925b2f9280"
   },
   "outputs": [
    {
     "data": {
      "text/plain": [
       "70"
      ]
     },
     "execution_count": 9,
     "metadata": {},
     "output_type": "execute_result"
    }
   ],
   "source": [
    "data.shape[0]"
   ]
  },
  {
   "cell_type": "code",
   "execution_count": 10,
   "metadata": {
    "colab": {
     "base_uri": "https://localhost:8080/"
    },
    "id": "NZCaID-TSIS1",
    "outputId": "de3416d0-6286-499d-f8b7-2a25ba5f3af1"
   },
   "outputs": [
    {
     "data": {
      "text/plain": [
       "7"
      ]
     },
     "execution_count": 10,
     "metadata": {},
     "output_type": "execute_result"
    }
   ],
   "source": [
    "data.shape[1]"
   ]
  },
  {
   "cell_type": "code",
   "execution_count": 11,
   "metadata": {
    "colab": {
     "base_uri": "https://localhost:8080/",
     "height": 284
    },
    "id": "rFkgw6s4SKR6",
    "outputId": "9206f6b6-444b-475a-ee41-ea4a2f5a5745"
   },
   "outputs": [
    {
     "data": {
      "text/html": [
       "<div>\n",
       "<style scoped>\n",
       "    .dataframe tbody tr th:only-of-type {\n",
       "        vertical-align: middle;\n",
       "    }\n",
       "\n",
       "    .dataframe tbody tr th {\n",
       "        vertical-align: top;\n",
       "    }\n",
       "\n",
       "    .dataframe thead th {\n",
       "        text-align: right;\n",
       "    }\n",
       "</style>\n",
       "<table border=\"1\" class=\"dataframe\">\n",
       "  <thead>\n",
       "    <tr style=\"text-align: right;\">\n",
       "      <th></th>\n",
       "      <th>res</th>\n",
       "    </tr>\n",
       "  </thead>\n",
       "  <tbody>\n",
       "    <tr>\n",
       "      <th>count</th>\n",
       "      <td>70.000000</td>\n",
       "    </tr>\n",
       "    <tr>\n",
       "      <th>mean</th>\n",
       "      <td>0.371429</td>\n",
       "    </tr>\n",
       "    <tr>\n",
       "      <th>std</th>\n",
       "      <td>0.705495</td>\n",
       "    </tr>\n",
       "    <tr>\n",
       "      <th>min</th>\n",
       "      <td>0.000000</td>\n",
       "    </tr>\n",
       "    <tr>\n",
       "      <th>25%</th>\n",
       "      <td>0.000000</td>\n",
       "    </tr>\n",
       "    <tr>\n",
       "      <th>50%</th>\n",
       "      <td>0.000000</td>\n",
       "    </tr>\n",
       "    <tr>\n",
       "      <th>75%</th>\n",
       "      <td>0.000000</td>\n",
       "    </tr>\n",
       "    <tr>\n",
       "      <th>max</th>\n",
       "      <td>2.000000</td>\n",
       "    </tr>\n",
       "  </tbody>\n",
       "</table>\n",
       "</div>"
      ],
      "text/plain": [
       "             res\n",
       "count  70.000000\n",
       "mean    0.371429\n",
       "std     0.705495\n",
       "min     0.000000\n",
       "25%     0.000000\n",
       "50%     0.000000\n",
       "75%     0.000000\n",
       "max     2.000000"
      ]
     },
     "execution_count": 11,
     "metadata": {},
     "output_type": "execute_result"
    }
   ],
   "source": [
    "#used for calculating check statistical data\n",
    "data.describe()"
   ]
  },
  {
   "cell_type": "code",
   "execution_count": 12,
   "metadata": {
    "colab": {
     "base_uri": "https://localhost:8080/",
     "height": 343
    },
    "id": "XqHKPQ_qSSuB",
    "outputId": "8d504bd1-eaad-4b28-9b9b-a7fb6c29b483"
   },
   "outputs": [
    {
     "data": {
      "text/html": [
       "<div>\n",
       "<style scoped>\n",
       "    .dataframe tbody tr th:only-of-type {\n",
       "        vertical-align: middle;\n",
       "    }\n",
       "\n",
       "    .dataframe tbody tr th {\n",
       "        vertical-align: top;\n",
       "    }\n",
       "\n",
       "    .dataframe thead th {\n",
       "        text-align: right;\n",
       "    }\n",
       "</style>\n",
       "<table border=\"1\" class=\"dataframe\">\n",
       "  <thead>\n",
       "    <tr style=\"text-align: right;\">\n",
       "      <th></th>\n",
       "      <th>Timestamp</th>\n",
       "      <th>Name</th>\n",
       "      <th>Course</th>\n",
       "      <th>Year of Study</th>\n",
       "      <th>Description</th>\n",
       "      <th>Result</th>\n",
       "      <th>res</th>\n",
       "    </tr>\n",
       "  </thead>\n",
       "  <tbody>\n",
       "    <tr>\n",
       "      <th>0</th>\n",
       "      <td>4/5/2021 13:43</td>\n",
       "      <td>Shruthi J</td>\n",
       "      <td>M.Sc</td>\n",
       "      <td>2</td>\n",
       "      <td>Awesome</td>\n",
       "      <td>positive</td>\n",
       "      <td>0</td>\n",
       "    </tr>\n",
       "    <tr>\n",
       "      <th>1</th>\n",
       "      <td>4/5/2021 13:43</td>\n",
       "      <td>Vaishali.k</td>\n",
       "      <td>M.Sc</td>\n",
       "      <td>2</td>\n",
       "      <td>80%</td>\n",
       "      <td>positive</td>\n",
       "      <td>0</td>\n",
       "    </tr>\n",
       "    <tr>\n",
       "      <th>2</th>\n",
       "      <td>4/5/2021 13:45</td>\n",
       "      <td>Kishore Kumar R</td>\n",
       "      <td>M.Sc</td>\n",
       "      <td>2</td>\n",
       "      <td>Not bad.</td>\n",
       "      <td>neutral</td>\n",
       "      <td>1</td>\n",
       "    </tr>\n",
       "    <tr>\n",
       "      <th>3</th>\n",
       "      <td>4/5/2021 13:46</td>\n",
       "      <td>Karthik</td>\n",
       "      <td>M.Sc</td>\n",
       "      <td>1</td>\n",
       "      <td>good</td>\n",
       "      <td>positive</td>\n",
       "      <td>0</td>\n",
       "    </tr>\n",
       "    <tr>\n",
       "      <th>4</th>\n",
       "      <td>4/5/2021 13:47</td>\n",
       "      <td>Jayasuriya E</td>\n",
       "      <td>M.Sc</td>\n",
       "      <td>2</td>\n",
       "      <td>I feel great.class are going really well compa...</td>\n",
       "      <td>positive</td>\n",
       "      <td>0</td>\n",
       "    </tr>\n",
       "    <tr>\n",
       "      <th>5</th>\n",
       "      <td>4/5/2021 13:48</td>\n",
       "      <td>Mathew Valan</td>\n",
       "      <td>M.Sc</td>\n",
       "      <td>1</td>\n",
       "      <td>Good\\n</td>\n",
       "      <td>positive</td>\n",
       "      <td>0</td>\n",
       "    </tr>\n",
       "    <tr>\n",
       "      <th>6</th>\n",
       "      <td>4/5/2021 13:49</td>\n",
       "      <td>Agni prasanth M</td>\n",
       "      <td>M.Sc</td>\n",
       "      <td>1</td>\n",
       "      <td>Good\\n</td>\n",
       "      <td>positive</td>\n",
       "      <td>0</td>\n",
       "    </tr>\n",
       "    <tr>\n",
       "      <th>7</th>\n",
       "      <td>4/5/2021 13:49</td>\n",
       "      <td>Naresh Kumar</td>\n",
       "      <td>M.Sc</td>\n",
       "      <td>2</td>\n",
       "      <td>Felt good , but had some issues too. The colle...</td>\n",
       "      <td>positive</td>\n",
       "      <td>0</td>\n",
       "    </tr>\n",
       "    <tr>\n",
       "      <th>8</th>\n",
       "      <td>4/5/2021 13:55</td>\n",
       "      <td>Ridhanya S</td>\n",
       "      <td>M.Sc</td>\n",
       "      <td>2</td>\n",
       "      <td>A growing experience</td>\n",
       "      <td>positive</td>\n",
       "      <td>0</td>\n",
       "    </tr>\n",
       "    <tr>\n",
       "      <th>9</th>\n",
       "      <td>4/5/2021 13:55</td>\n",
       "      <td>DINESHKUMAR S</td>\n",
       "      <td>M.Sc</td>\n",
       "      <td>1</td>\n",
       "      <td>Everything fine</td>\n",
       "      <td>positive</td>\n",
       "      <td>0</td>\n",
       "    </tr>\n",
       "  </tbody>\n",
       "</table>\n",
       "</div>"
      ],
      "text/plain": [
       "        Timestamp              Name Course Year of Study  \\\n",
       "0  4/5/2021 13:43         Shruthi J   M.Sc             2   \n",
       "1  4/5/2021 13:43        Vaishali.k   M.Sc             2   \n",
       "2  4/5/2021 13:45   Kishore Kumar R   M.Sc             2   \n",
       "3  4/5/2021 13:46           Karthik   M.Sc             1   \n",
       "4  4/5/2021 13:47      Jayasuriya E   M.Sc             2   \n",
       "5  4/5/2021 13:48      Mathew Valan   M.Sc             1   \n",
       "6  4/5/2021 13:49  Agni prasanth M    M.Sc             1   \n",
       "7  4/5/2021 13:49      Naresh Kumar   M.Sc             2   \n",
       "8  4/5/2021 13:55        Ridhanya S   M.Sc             2   \n",
       "9  4/5/2021 13:55     DINESHKUMAR S   M.Sc             1   \n",
       "\n",
       "                                         Description     Result  res  \n",
       "0                                            Awesome  positive     0  \n",
       "1                                                80%  positive     0  \n",
       "2                                           Not bad.    neutral    1  \n",
       "3                                               good  positive     0  \n",
       "4  I feel great.class are going really well compa...  positive     0  \n",
       "5                                             Good\\n  positive     0  \n",
       "6                                             Good\\n  positive     0  \n",
       "7  Felt good , but had some issues too. The colle...  positive     0  \n",
       "8                               A growing experience  positive     0  \n",
       "9                                    Everything fine  positive     0  "
      ]
     },
     "execution_count": 12,
     "metadata": {},
     "output_type": "execute_result"
    }
   ],
   "source": [
    "data.head(10)"
   ]
  },
  {
   "cell_type": "code",
   "execution_count": 13,
   "metadata": {
    "colab": {
     "base_uri": "https://localhost:8080/",
     "height": 343
    },
    "id": "BxBREXA-SXEm",
    "outputId": "fb8b5aa9-8409-4ba2-e95f-a8c589d2c6ab"
   },
   "outputs": [
    {
     "data": {
      "text/html": [
       "<div>\n",
       "<style scoped>\n",
       "    .dataframe tbody tr th:only-of-type {\n",
       "        vertical-align: middle;\n",
       "    }\n",
       "\n",
       "    .dataframe tbody tr th {\n",
       "        vertical-align: top;\n",
       "    }\n",
       "\n",
       "    .dataframe thead th {\n",
       "        text-align: right;\n",
       "    }\n",
       "</style>\n",
       "<table border=\"1\" class=\"dataframe\">\n",
       "  <thead>\n",
       "    <tr style=\"text-align: right;\">\n",
       "      <th></th>\n",
       "      <th>Timestamp</th>\n",
       "      <th>Name</th>\n",
       "      <th>Course</th>\n",
       "      <th>Year of Study</th>\n",
       "      <th>Description</th>\n",
       "      <th>Result</th>\n",
       "      <th>res</th>\n",
       "    </tr>\n",
       "  </thead>\n",
       "  <tbody>\n",
       "    <tr>\n",
       "      <th>60</th>\n",
       "      <td>4/6/2021 10:11</td>\n",
       "      <td>AATHEESWARAN M</td>\n",
       "      <td>M.Sc</td>\n",
       "      <td>2</td>\n",
       "      <td>Good college.</td>\n",
       "      <td>positive</td>\n",
       "      <td>0</td>\n",
       "    </tr>\n",
       "    <tr>\n",
       "      <th>61</th>\n",
       "      <td>4/6/2021 10:14</td>\n",
       "      <td>Harshavardhan</td>\n",
       "      <td>B.E</td>\n",
       "      <td>4</td>\n",
       "      <td>H</td>\n",
       "      <td>positive</td>\n",
       "      <td>0</td>\n",
       "    </tr>\n",
       "    <tr>\n",
       "      <th>62</th>\n",
       "      <td>4/6/2021 19:04</td>\n",
       "      <td>Prakalya</td>\n",
       "      <td>M.Sc</td>\n",
       "      <td>1</td>\n",
       "      <td>Good as we interact with friends and exploring...</td>\n",
       "      <td>positive</td>\n",
       "      <td>0</td>\n",
       "    </tr>\n",
       "    <tr>\n",
       "      <th>63</th>\n",
       "      <td>4/7/2021 9:29</td>\n",
       "      <td>DEEPA SHANMUGAM</td>\n",
       "      <td>MCA</td>\n",
       "      <td>2</td>\n",
       "      <td>Its good</td>\n",
       "      <td>positive</td>\n",
       "      <td>0</td>\n",
       "    </tr>\n",
       "    <tr>\n",
       "      <th>64</th>\n",
       "      <td>7/4/2021 10:46</td>\n",
       "      <td>SRUTI.L</td>\n",
       "      <td>B.E</td>\n",
       "      <td>2</td>\n",
       "      <td>Good</td>\n",
       "      <td>positive</td>\n",
       "      <td>0</td>\n",
       "    </tr>\n",
       "    <tr>\n",
       "      <th>65</th>\n",
       "      <td>8/4/2021 10:46</td>\n",
       "      <td>Surya</td>\n",
       "      <td>B.E</td>\n",
       "      <td>2</td>\n",
       "      <td>Good</td>\n",
       "      <td>positive</td>\n",
       "      <td>0</td>\n",
       "    </tr>\n",
       "    <tr>\n",
       "      <th>66</th>\n",
       "      <td>8/4/2021 7:00</td>\n",
       "      <td>Kavya Kannan</td>\n",
       "      <td>M.Sc</td>\n",
       "      <td>II</td>\n",
       "      <td>It? the best and the most lovable journey that...</td>\n",
       "      <td>positive</td>\n",
       "      <td>0</td>\n",
       "    </tr>\n",
       "    <tr>\n",
       "      <th>67</th>\n",
       "      <td>12/4/2021 10:04</td>\n",
       "      <td>Janani. T</td>\n",
       "      <td>B.E</td>\n",
       "      <td>III</td>\n",
       "      <td>Good and useful</td>\n",
       "      <td>positive</td>\n",
       "      <td>0</td>\n",
       "    </tr>\n",
       "    <tr>\n",
       "      <th>68</th>\n",
       "      <td>12/4/2021 10:47</td>\n",
       "      <td>Arun d</td>\n",
       "      <td>M.Sc</td>\n",
       "      <td>I</td>\n",
       "      <td>M</td>\n",
       "      <td>neutral</td>\n",
       "      <td>1</td>\n",
       "    </tr>\n",
       "    <tr>\n",
       "      <th>69</th>\n",
       "      <td>5/4/2021 22:40</td>\n",
       "      <td>Niranjana</td>\n",
       "      <td>M.Sc</td>\n",
       "      <td>II</td>\n",
       "      <td>Hostel life is the best as far as CIT concerned.</td>\n",
       "      <td>positive</td>\n",
       "      <td>0</td>\n",
       "    </tr>\n",
       "  </tbody>\n",
       "</table>\n",
       "</div>"
      ],
      "text/plain": [
       "          Timestamp             Name Course Year of Study  \\\n",
       "60   4/6/2021 10:11   AATHEESWARAN M   M.Sc             2   \n",
       "61   4/6/2021 10:14    Harshavardhan    B.E             4   \n",
       "62   4/6/2021 19:04         Prakalya   M.Sc             1   \n",
       "63    4/7/2021 9:29  DEEPA SHANMUGAM    MCA             2   \n",
       "64   7/4/2021 10:46          SRUTI.L    B.E             2   \n",
       "65   8/4/2021 10:46            Surya    B.E             2   \n",
       "66    8/4/2021 7:00     Kavya Kannan   M.Sc            II   \n",
       "67  12/4/2021 10:04        Janani. T    B.E           III   \n",
       "68  12/4/2021 10:47           Arun d   M.Sc             I   \n",
       "69   5/4/2021 22:40        Niranjana   M.Sc            II   \n",
       "\n",
       "                                          Description     Result  res  \n",
       "60                                      Good college.  positive     0  \n",
       "61                                                  H  positive     0  \n",
       "62  Good as we interact with friends and exploring...  positive     0  \n",
       "63                                          Its good   positive     0  \n",
       "64                                               Good  positive     0  \n",
       "65                                               Good  positive     0  \n",
       "66  It? the best and the most lovable journey that...  positive     0  \n",
       "67                                    Good and useful  positive     0  \n",
       "68                                                  M    neutral    1  \n",
       "69   Hostel life is the best as far as CIT concerned.  positive     0  "
      ]
     },
     "execution_count": 13,
     "metadata": {},
     "output_type": "execute_result"
    }
   ],
   "source": [
    "data.tail(10)"
   ]
  },
  {
   "cell_type": "code",
   "execution_count": 14,
   "metadata": {
    "colab": {
     "base_uri": "https://localhost:8080/"
    },
    "id": "B6J8vecWSZZG",
    "outputId": "1fce1086-f0ff-45ce-d8ed-9d6171d8dcc7"
   },
   "outputs": [
    {
     "data": {
      "text/plain": [
       "60"
      ]
     },
     "execution_count": 14,
     "metadata": {},
     "output_type": "execute_result"
    }
   ],
   "source": [
    "pd.options.display.max_rows"
   ]
  },
  {
   "cell_type": "code",
   "execution_count": 15,
   "metadata": {
    "colab": {
     "base_uri": "https://localhost:8080/"
    },
    "id": "VRkg46jISdvE",
    "outputId": "1de04a6e-ef89-4f4b-946c-d5cd3f03509b"
   },
   "outputs": [
    {
     "data": {
      "text/plain": [
       "20"
      ]
     },
     "execution_count": 15,
     "metadata": {},
     "output_type": "execute_result"
    }
   ],
   "source": [
    "pd.options.display.max_columns"
   ]
  },
  {
   "cell_type": "code",
   "execution_count": 16,
   "metadata": {
    "id": "hnd_sU_KSh-h"
   },
   "outputs": [],
   "source": [
    "pd.set_option('display.max_rows',500)"
   ]
  },
  {
   "cell_type": "code",
   "execution_count": 17,
   "metadata": {
    "id": "Nd8kxu69Sm9Z"
   },
   "outputs": [],
   "source": [
    "pd.set_option('display.max_columns',500)"
   ]
  },
  {
   "cell_type": "code",
   "execution_count": 18,
   "metadata": {
    "id": "zOqCFuI-SpEr"
   },
   "outputs": [],
   "source": [
    "pd.set_option('display.width',1000)"
   ]
  },
  {
   "cell_type": "code",
   "execution_count": 19,
   "metadata": {
    "colab": {
     "base_uri": "https://localhost:8080/"
    },
    "id": "Xb3fFvZKXuht",
    "outputId": "d2ad5d4a-6680-4d90-da92-258d4036227c"
   },
   "outputs": [
    {
     "name": "stdout",
     "output_type": "stream",
     "text": [
      "<class 'pandas.core.frame.DataFrame'>\n",
      "RangeIndex: 70 entries, 0 to 69\n",
      "Data columns (total 7 columns):\n",
      " #   Column         Non-Null Count  Dtype \n",
      "---  ------         --------------  ----- \n",
      " 0   Timestamp      70 non-null     object\n",
      " 1   Name           70 non-null     object\n",
      " 2   Course         70 non-null     object\n",
      " 3   Year of Study  70 non-null     object\n",
      " 4   Description    70 non-null     object\n",
      " 5   Result         70 non-null     object\n",
      " 6   res            70 non-null     int64 \n",
      "dtypes: int64(1), object(6)\n",
      "memory usage: 4.0+ KB\n"
     ]
    }
   ],
   "source": [
    "#checking data types of the features\n",
    "data.info()"
   ]
  },
  {
   "cell_type": "code",
   "execution_count": 20,
   "metadata": {
    "colab": {
     "base_uri": "https://localhost:8080/"
    },
    "id": "ikcebDdTYQrt",
    "outputId": "d4a46f8e-85a5-416c-a67b-ebf1e7247a19"
   },
   "outputs": [
    {
     "data": {
      "text/plain": [
       "Timestamp        object\n",
       "Name             object\n",
       "Course           object\n",
       "Year of Study    object\n",
       "Description      object\n",
       "Result           object\n",
       "res               int64\n",
       "dtype: object"
      ]
     },
     "execution_count": 20,
     "metadata": {},
     "output_type": "execute_result"
    }
   ],
   "source": [
    "data.dtypes"
   ]
  },
  {
   "cell_type": "code",
   "execution_count": 21,
   "metadata": {
    "colab": {
     "base_uri": "https://localhost:8080/"
    },
    "id": "g0aYuUJ4YUNn",
    "outputId": "f014f7ba-e786-49ad-f7aa-33590702c952"
   },
   "outputs": [
    {
     "data": {
      "text/plain": [
       "Timestamp        62\n",
       "Name             69\n",
       "Course            4\n",
       "Year of Study     7\n",
       "Description      62\n",
       "Result            3\n",
       "res               3\n",
       "dtype: int64"
      ]
     },
     "execution_count": 21,
     "metadata": {},
     "output_type": "execute_result"
    }
   ],
   "source": [
    "#checking unique values of the feature\n",
    "data.nunique()"
   ]
  },
  {
   "cell_type": "code",
   "execution_count": 22,
   "metadata": {
    "colab": {
     "base_uri": "https://localhost:8080/"
    },
    "id": "NtygYq0rYW2U",
    "outputId": "31e7bf91-8c2a-4672-d0f9-9187dbd22aa3"
   },
   "outputs": [
    {
     "data": {
      "text/plain": [
       "Karthik               2\n",
       "Ilakiya.S             1\n",
       "Sherin                1\n",
       "Niranjana             1\n",
       "Barath S              1\n",
       "Sanjaypranav          1\n",
       "Harisudhan            1\n",
       "Nevetha               1\n",
       "Dharnesh              1\n",
       "Santhosh              1\n",
       "Srijith               1\n",
       "Prakalya              1\n",
       "Kishore Kumar R       1\n",
       "Shamruthi             1\n",
       "Ridhisha              1\n",
       "SRUTI.L               1\n",
       "Harsan                1\n",
       "ARUNKRISHNA V         1\n",
       "Vaishali.k            1\n",
       "Sibikshan K           1\n",
       "Shree Varshini R P    1\n",
       "Ridhanya S            1\n",
       "Jayasuriya E          1\n",
       "Sudharshan            1\n",
       "Sundaresan CG         1\n",
       "SILAMBARASAN          1\n",
       "S.R.Hari shankar      1\n",
       "K.B.selvaruban        1\n",
       "K.gokul ram           1\n",
       "DINESHKUMAR S         1\n",
       "Janani. T             1\n",
       "Naresh Kumar          1\n",
       "Nitheyah Raajah S     1\n",
       "Uthra S               1\n",
       "VISHAL D              1\n",
       "Agni prasanth M       1\n",
       "Saran Prasath A R     1\n",
       "P.Narean Karthick     1\n",
       "GK Kiruthik Sabari    1\n",
       "Sunmathi              1\n",
       "Shanmuga Priya        1\n",
       "AATHEESWARAN M        1\n",
       "Arun d                1\n",
       "suriya prashanna      1\n",
       "Revanth               1\n",
       "Surya RE              1\n",
       "Dhamodaran B          1\n",
       "Mukish S              1\n",
       "Vignavel              1\n",
       "S. Madhan             1\n",
       "Mathew Valan          1\n",
       "VIGNESH B             1\n",
       "Harshavardhan         1\n",
       "Sudarsan              1\n",
       "Shruthi J             1\n",
       "Surya                 1\n",
       "Jabustin              1\n",
       "Arun                  1\n",
       "Nanda Kishore         1\n",
       "DEEPA SHANMUGAM       1\n",
       "Suhasini              1\n",
       "KISHORE.C             1\n",
       "dhyaneshwaran k       1\n",
       "Kousika M             1\n",
       "Kavya Kannan          1\n",
       "Kishore G K           1\n",
       "Rohan                 1\n",
       "ARAVIND               1\n",
       "P.Karthika            1\n",
       "Name: Name, dtype: int64"
      ]
     },
     "execution_count": 22,
     "metadata": {},
     "output_type": "execute_result"
    }
   ],
   "source": [
    "data.iloc[:,1].value_counts()"
   ]
  },
  {
   "cell_type": "code",
   "execution_count": 23,
   "metadata": {
    "colab": {
     "base_uri": "https://localhost:8080/",
     "height": 340
    },
    "id": "zIkZO27qYZTL",
    "outputId": "05d919d7-2eb2-4307-b0bf-40441af15c6b"
   },
   "outputs": [
    {
     "data": {
      "text/plain": [
       "<AxesSubplot:>"
      ]
     },
     "execution_count": 23,
     "metadata": {},
     "output_type": "execute_result"
    },
    {
     "data": {
      "image/png": "[encoded data removed]",
      "text/plain": [
       "<Figure size 432x288 with 1 Axes>"
      ]
     },
     "metadata": {
      "needs_background": "light"
     },
     "output_type": "display_data"
    }
   ],
   "source": [
    "#heatmap of null values\n",
    "data.isnull().sum()\n",
    "sns.heatmap(data.isnull(),cbar=False)"
   ]
  },
  {
   "cell_type": "code",
   "execution_count": 24,
   "metadata": {
    "colab": {
     "base_uri": "https://localhost:8080/",
     "height": 35
    },
    "id": "ZLAq1B1AYb31",
    "outputId": "a6b70f54-de5c-4f08-dd22-6ca4f7707080"
   },
   "outputs": [
    {
     "data": {
      "text/plain": [
       "'4/5/2021 13:43'"
      ]
     },
     "execution_count": 24,
     "metadata": {},
     "output_type": "execute_result"
    }
   ],
   "source": [
    "data.iloc[0,0]"
   ]
  },
  {
   "cell_type": "code",
   "execution_count": 25,
   "metadata": {
    "colab": {
     "base_uri": "https://localhost:8080/",
     "height": 1000
    },
    "id": "LOtjYkiiY3nT",
    "outputId": "c87573f5-e3b4-4a51-9569-82c75a8995ea"
   },
   "outputs": [
    {
     "data": {
      "text/html": [
       "<div>\n",
       "<style scoped>\n",
       "    .dataframe tbody tr th:only-of-type {\n",
       "        vertical-align: middle;\n",
       "    }\n",
       "\n",
       "    .dataframe tbody tr th {\n",
       "        vertical-align: top;\n",
       "    }\n",
       "\n",
       "    .dataframe thead th {\n",
       "        text-align: right;\n",
       "    }\n",
       "</style>\n",
       "<table border=\"1\" class=\"dataframe\">\n",
       "  <thead>\n",
       "    <tr style=\"text-align: right;\">\n",
       "      <th></th>\n",
       "      <th>Timestamp</th>\n",
       "      <th>Name</th>\n",
       "      <th>Course</th>\n",
       "      <th>Year of Study</th>\n",
       "      <th>Description</th>\n",
       "      <th>Result</th>\n",
       "      <th>res</th>\n",
       "    </tr>\n",
       "  </thead>\n",
       "  <tbody>\n",
       "    <tr>\n",
       "      <th>0</th>\n",
       "      <td>False</td>\n",
       "      <td>False</td>\n",
       "      <td>False</td>\n",
       "      <td>False</td>\n",
       "      <td>False</td>\n",
       "      <td>False</td>\n",
       "      <td>False</td>\n",
       "    </tr>\n",
       "    <tr>\n",
       "      <th>1</th>\n",
       "      <td>False</td>\n",
       "      <td>False</td>\n",
       "      <td>False</td>\n",
       "      <td>False</td>\n",
       "      <td>False</td>\n",
       "      <td>False</td>\n",
       "      <td>False</td>\n",
       "    </tr>\n",
       "    <tr>\n",
       "      <th>2</th>\n",
       "      <td>False</td>\n",
       "      <td>False</td>\n",
       "      <td>False</td>\n",
       "      <td>False</td>\n",
       "      <td>False</td>\n",
       "      <td>False</td>\n",
       "      <td>False</td>\n",
       "    </tr>\n",
       "    <tr>\n",
       "      <th>3</th>\n",
       "      <td>False</td>\n",
       "      <td>False</td>\n",
       "      <td>False</td>\n",
       "      <td>False</td>\n",
       "      <td>False</td>\n",
       "      <td>False</td>\n",
       "      <td>False</td>\n",
       "    </tr>\n",
       "    <tr>\n",
       "      <th>4</th>\n",
       "      <td>False</td>\n",
       "      <td>False</td>\n",
       "      <td>False</td>\n",
       "      <td>False</td>\n",
       "      <td>False</td>\n",
       "      <td>False</td>\n",
       "      <td>False</td>\n",
       "    </tr>\n",
       "    <tr>\n",
       "      <th>5</th>\n",
       "      <td>False</td>\n",
       "      <td>False</td>\n",
       "      <td>False</td>\n",
       "      <td>False</td>\n",
       "      <td>False</td>\n",
       "      <td>False</td>\n",
       "      <td>False</td>\n",
       "    </tr>\n",
       "    <tr>\n",
       "      <th>6</th>\n",
       "      <td>False</td>\n",
       "      <td>False</td>\n",
       "      <td>False</td>\n",
       "      <td>False</td>\n",
       "      <td>False</td>\n",
       "      <td>False</td>\n",
       "      <td>False</td>\n",
       "    </tr>\n",
       "    <tr>\n",
       "      <th>7</th>\n",
       "      <td>False</td>\n",
       "      <td>False</td>\n",
       "      <td>False</td>\n",
       "      <td>False</td>\n",
       "      <td>False</td>\n",
       "      <td>False</td>\n",
       "      <td>False</td>\n",
       "    </tr>\n",
       "    <tr>\n",
       "      <th>8</th>\n",
       "      <td>False</td>\n",
       "      <td>False</td>\n",
       "      <td>False</td>\n",
       "      <td>False</td>\n",
       "      <td>False</td>\n",
       "      <td>False</td>\n",
       "      <td>False</td>\n",
       "    </tr>\n",
       "    <tr>\n",
       "      <th>9</th>\n",
       "      <td>False</td>\n",
       "      <td>False</td>\n",
       "      <td>False</td>\n",
       "      <td>False</td>\n",
       "      <td>False</td>\n",
       "      <td>False</td>\n",
       "      <td>False</td>\n",
       "    </tr>\n",
       "    <tr>\n",
       "      <th>10</th>\n",
       "      <td>False</td>\n",
       "      <td>False</td>\n",
       "      <td>False</td>\n",
       "      <td>False</td>\n",
       "      <td>False</td>\n",
       "      <td>False</td>\n",
       "      <td>False</td>\n",
       "    </tr>\n",
       "    <tr>\n",
       "      <th>11</th>\n",
       "      <td>False</td>\n",
       "      <td>False</td>\n",
       "      <td>False</td>\n",
       "      <td>False</td>\n",
       "      <td>False</td>\n",
       "      <td>False</td>\n",
       "      <td>False</td>\n",
       "    </tr>\n",
       "    <tr>\n",
       "      <th>12</th>\n",
       "      <td>False</td>\n",
       "      <td>False</td>\n",
       "      <td>False</td>\n",
       "      <td>False</td>\n",
       "      <td>False</td>\n",
       "      <td>False</td>\n",
       "      <td>False</td>\n",
       "    </tr>\n",
       "    <tr>\n",
       "      <th>13</th>\n",
       "      <td>False</td>\n",
       "      <td>False</td>\n",
       "      <td>False</td>\n",
       "      <td>False</td>\n",
       "      <td>False</td>\n",
       "      <td>False</td>\n",
       "      <td>False</td>\n",
       "    </tr>\n",
       "    <tr>\n",
       "      <th>14</th>\n",
       "      <td>False</td>\n",
       "      <td>False</td>\n",
       "      <td>False</td>\n",
       "      <td>False</td>\n",
       "      <td>False</td>\n",
       "      <td>False</td>\n",
       "      <td>False</td>\n",
       "    </tr>\n",
       "    <tr>\n",
       "      <th>15</th>\n",
       "      <td>False</td>\n",
       "      <td>False</td>\n",
       "      <td>False</td>\n",
       "      <td>False</td>\n",
       "      <td>False</td>\n",
       "      <td>False</td>\n",
       "      <td>False</td>\n",
       "    </tr>\n",
       "    <tr>\n",
       "      <th>16</th>\n",
       "      <td>False</td>\n",
       "      <td>False</td>\n",
       "      <td>False</td>\n",
       "      <td>False</td>\n",
       "      <td>False</td>\n",
       "      <td>False</td>\n",
       "      <td>False</td>\n",
       "    </tr>\n",
       "    <tr>\n",
       "      <th>17</th>\n",
       "      <td>False</td>\n",
       "      <td>False</td>\n",
       "      <td>False</td>\n",
       "      <td>False</td>\n",
       "      <td>False</td>\n",
       "      <td>False</td>\n",
       "      <td>False</td>\n",
       "    </tr>\n",
       "    <tr>\n",
       "      <th>18</th>\n",
       "      <td>False</td>\n",
       "      <td>False</td>\n",
       "      <td>False</td>\n",
       "      <td>False</td>\n",
       "      <td>False</td>\n",
       "      <td>False</td>\n",
       "      <td>False</td>\n",
       "    </tr>\n",
       "    <tr>\n",
       "      <th>19</th>\n",
       "      <td>False</td>\n",
       "      <td>False</td>\n",
       "      <td>False</td>\n",
       "      <td>False</td>\n",
       "      <td>False</td>\n",
       "      <td>False</td>\n",
       "      <td>False</td>\n",
       "    </tr>\n",
       "    <tr>\n",
       "      <th>20</th>\n",
       "      <td>False</td>\n",
       "      <td>False</td>\n",
       "      <td>False</td>\n",
       "      <td>False</td>\n",
       "      <td>False</td>\n",
       "      <td>False</td>\n",
       "      <td>False</td>\n",
       "    </tr>\n",
       "    <tr>\n",
       "      <th>21</th>\n",
       "      <td>False</td>\n",
       "      <td>False</td>\n",
       "      <td>False</td>\n",
       "      <td>False</td>\n",
       "      <td>False</td>\n",
       "      <td>False</td>\n",
       "      <td>False</td>\n",
       "    </tr>\n",
       "    <tr>\n",
       "      <th>22</th>\n",
       "      <td>False</td>\n",
       "      <td>False</td>\n",
       "      <td>False</td>\n",
       "      <td>False</td>\n",
       "      <td>False</td>\n",
       "      <td>False</td>\n",
       "      <td>False</td>\n",
       "    </tr>\n",
       "    <tr>\n",
       "      <th>23</th>\n",
       "      <td>False</td>\n",
       "      <td>False</td>\n",
       "      <td>False</td>\n",
       "      <td>False</td>\n",
       "      <td>False</td>\n",
       "      <td>False</td>\n",
       "      <td>False</td>\n",
       "    </tr>\n",
       "    <tr>\n",
       "      <th>24</th>\n",
       "      <td>False</td>\n",
       "      <td>False</td>\n",
       "      <td>False</td>\n",
       "      <td>False</td>\n",
       "      <td>False</td>\n",
       "      <td>False</td>\n",
       "      <td>False</td>\n",
       "    </tr>\n",
       "    <tr>\n",
       "      <th>25</th>\n",
       "      <td>False</td>\n",
       "      <td>False</td>\n",
       "      <td>False</td>\n",
       "      <td>False</td>\n",
       "      <td>False</td>\n",
       "      <td>False</td>\n",
       "      <td>False</td>\n",
       "    </tr>\n",
       "    <tr>\n",
       "      <th>26</th>\n",
       "      <td>False</td>\n",
       "      <td>False</td>\n",
       "      <td>False</td>\n",
       "      <td>False</td>\n",
       "      <td>False</td>\n",
       "      <td>False</td>\n",
       "      <td>False</td>\n",
       "    </tr>\n",
       "    <tr>\n",
       "      <th>27</th>\n",
       "      <td>False</td>\n",
       "      <td>False</td>\n",
       "      <td>False</td>\n",
       "      <td>False</td>\n",
       "      <td>False</td>\n",
       "      <td>False</td>\n",
       "      <td>False</td>\n",
       "    </tr>\n",
       "    <tr>\n",
       "      <th>28</th>\n",
       "      <td>False</td>\n",
       "      <td>False</td>\n",
       "      <td>False</td>\n",
       "      <td>False</td>\n",
       "      <td>False</td>\n",
       "      <td>False</td>\n",
       "      <td>False</td>\n",
       "    </tr>\n",
       "    <tr>\n",
       "      <th>29</th>\n",
       "      <td>False</td>\n",
       "      <td>False</td>\n",
       "      <td>False</td>\n",
       "      <td>False</td>\n",
       "      <td>False</td>\n",
       "      <td>False</td>\n",
       "      <td>False</td>\n",
       "    </tr>\n",
       "    <tr>\n",
       "      <th>30</th>\n",
       "      <td>False</td>\n",
       "      <td>False</td>\n",
       "      <td>False</td>\n",
       "      <td>False</td>\n",
       "      <td>False</td>\n",
       "      <td>False</td>\n",
       "      <td>False</td>\n",
       "    </tr>\n",
       "    <tr>\n",
       "      <th>31</th>\n",
       "      <td>False</td>\n",
       "      <td>False</td>\n",
       "      <td>False</td>\n",
       "      <td>False</td>\n",
       "      <td>False</td>\n",
       "      <td>False</td>\n",
       "      <td>False</td>\n",
       "    </tr>\n",
       "    <tr>\n",
       "      <th>32</th>\n",
       "      <td>False</td>\n",
       "      <td>False</td>\n",
       "      <td>False</td>\n",
       "      <td>False</td>\n",
       "      <td>False</td>\n",
       "      <td>False</td>\n",
       "      <td>False</td>\n",
       "    </tr>\n",
       "    <tr>\n",
       "      <th>33</th>\n",
       "      <td>False</td>\n",
       "      <td>False</td>\n",
       "      <td>False</td>\n",
       "      <td>False</td>\n",
       "      <td>False</td>\n",
       "      <td>False</td>\n",
       "      <td>False</td>\n",
       "    </tr>\n",
       "    <tr>\n",
       "      <th>34</th>\n",
       "      <td>False</td>\n",
       "      <td>False</td>\n",
       "      <td>False</td>\n",
       "      <td>False</td>\n",
       "      <td>False</td>\n",
       "      <td>False</td>\n",
       "      <td>False</td>\n",
       "    </tr>\n",
       "    <tr>\n",
       "      <th>35</th>\n",
       "      <td>False</td>\n",
       "      <td>False</td>\n",
       "      <td>False</td>\n",
       "      <td>False</td>\n",
       "      <td>False</td>\n",
       "      <td>False</td>\n",
       "      <td>False</td>\n",
       "    </tr>\n",
       "    <tr>\n",
       "      <th>36</th>\n",
       "      <td>False</td>\n",
       "      <td>False</td>\n",
       "      <td>False</td>\n",
       "      <td>False</td>\n",
       "      <td>False</td>\n",
       "      <td>False</td>\n",
       "      <td>False</td>\n",
       "    </tr>\n",
       "    <tr>\n",
       "      <th>37</th>\n",
       "      <td>False</td>\n",
       "      <td>False</td>\n",
       "      <td>False</td>\n",
       "      <td>False</td>\n",
       "      <td>False</td>\n",
       "      <td>False</td>\n",
       "      <td>False</td>\n",
       "    </tr>\n",
       "    <tr>\n",
       "      <th>38</th>\n",
       "      <td>False</td>\n",
       "      <td>False</td>\n",
       "      <td>False</td>\n",
       "      <td>False</td>\n",
       "      <td>False</td>\n",
       "      <td>False</td>\n",
       "      <td>False</td>\n",
       "    </tr>\n",
       "    <tr>\n",
       "      <th>39</th>\n",
       "      <td>False</td>\n",
       "      <td>False</td>\n",
       "      <td>False</td>\n",
       "      <td>False</td>\n",
       "      <td>False</td>\n",
       "      <td>False</td>\n",
       "      <td>False</td>\n",
       "    </tr>\n",
       "    <tr>\n",
       "      <th>40</th>\n",
       "      <td>False</td>\n",
       "      <td>False</td>\n",
       "      <td>False</td>\n",
       "      <td>False</td>\n",
       "      <td>False</td>\n",
       "      <td>False</td>\n",
       "      <td>False</td>\n",
       "    </tr>\n",
       "    <tr>\n",
       "      <th>41</th>\n",
       "      <td>False</td>\n",
       "      <td>False</td>\n",
       "      <td>False</td>\n",
       "      <td>False</td>\n",
       "      <td>False</td>\n",
       "      <td>False</td>\n",
       "      <td>False</td>\n",
       "    </tr>\n",
       "    <tr>\n",
       "      <th>42</th>\n",
       "      <td>False</td>\n",
       "      <td>False</td>\n",
       "      <td>False</td>\n",
       "      <td>False</td>\n",
       "      <td>False</td>\n",
       "      <td>False</td>\n",
       "      <td>False</td>\n",
       "    </tr>\n",
       "    <tr>\n",
       "      <th>43</th>\n",
       "      <td>False</td>\n",
       "      <td>False</td>\n",
       "      <td>False</td>\n",
       "      <td>False</td>\n",
       "      <td>False</td>\n",
       "      <td>False</td>\n",
       "      <td>False</td>\n",
       "    </tr>\n",
       "    <tr>\n",
       "      <th>44</th>\n",
       "      <td>False</td>\n",
       "      <td>False</td>\n",
       "      <td>False</td>\n",
       "      <td>False</td>\n",
       "      <td>False</td>\n",
       "      <td>False</td>\n",
       "      <td>False</td>\n",
       "    </tr>\n",
       "    <tr>\n",
       "      <th>45</th>\n",
       "      <td>False</td>\n",
       "      <td>False</td>\n",
       "      <td>False</td>\n",
       "      <td>False</td>\n",
       "      <td>False</td>\n",
       "      <td>False</td>\n",
       "      <td>False</td>\n",
       "    </tr>\n",
       "    <tr>\n",
       "      <th>46</th>\n",
       "      <td>False</td>\n",
       "      <td>False</td>\n",
       "      <td>False</td>\n",
       "      <td>False</td>\n",
       "      <td>False</td>\n",
       "      <td>False</td>\n",
       "      <td>False</td>\n",
       "    </tr>\n",
       "    <tr>\n",
       "      <th>47</th>\n",
       "      <td>False</td>\n",
       "      <td>False</td>\n",
       "      <td>False</td>\n",
       "      <td>False</td>\n",
       "      <td>False</td>\n",
       "      <td>False</td>\n",
       "      <td>False</td>\n",
       "    </tr>\n",
       "    <tr>\n",
       "      <th>48</th>\n",
       "      <td>False</td>\n",
       "      <td>False</td>\n",
       "      <td>False</td>\n",
       "      <td>False</td>\n",
       "      <td>False</td>\n",
       "      <td>False</td>\n",
       "      <td>False</td>\n",
       "    </tr>\n",
       "    <tr>\n",
       "      <th>49</th>\n",
       "      <td>False</td>\n",
       "      <td>False</td>\n",
       "      <td>False</td>\n",
       "      <td>False</td>\n",
       "      <td>False</td>\n",
       "      <td>False</td>\n",
       "      <td>False</td>\n",
       "    </tr>\n",
       "    <tr>\n",
       "      <th>50</th>\n",
       "      <td>False</td>\n",
       "      <td>False</td>\n",
       "      <td>False</td>\n",
       "      <td>False</td>\n",
       "      <td>False</td>\n",
       "      <td>False</td>\n",
       "      <td>False</td>\n",
       "    </tr>\n",
       "    <tr>\n",
       "      <th>51</th>\n",
       "      <td>False</td>\n",
       "      <td>False</td>\n",
       "      <td>False</td>\n",
       "      <td>False</td>\n",
       "      <td>False</td>\n",
       "      <td>False</td>\n",
       "      <td>False</td>\n",
       "    </tr>\n",
       "    <tr>\n",
       "      <th>52</th>\n",
       "      <td>False</td>\n",
       "      <td>False</td>\n",
       "      <td>False</td>\n",
       "      <td>False</td>\n",
       "      <td>False</td>\n",
       "      <td>False</td>\n",
       "      <td>False</td>\n",
       "    </tr>\n",
       "    <tr>\n",
       "      <th>53</th>\n",
       "      <td>False</td>\n",
       "      <td>False</td>\n",
       "      <td>False</td>\n",
       "      <td>False</td>\n",
       "      <td>False</td>\n",
       "      <td>False</td>\n",
       "      <td>False</td>\n",
       "    </tr>\n",
       "    <tr>\n",
       "      <th>54</th>\n",
       "      <td>False</td>\n",
       "      <td>False</td>\n",
       "      <td>False</td>\n",
       "      <td>False</td>\n",
       "      <td>False</td>\n",
       "      <td>False</td>\n",
       "      <td>False</td>\n",
       "    </tr>\n",
       "    <tr>\n",
       "      <th>55</th>\n",
       "      <td>False</td>\n",
       "      <td>False</td>\n",
       "      <td>False</td>\n",
       "      <td>False</td>\n",
       "      <td>False</td>\n",
       "      <td>False</td>\n",
       "      <td>False</td>\n",
       "    </tr>\n",
       "    <tr>\n",
       "      <th>56</th>\n",
       "      <td>False</td>\n",
       "      <td>False</td>\n",
       "      <td>False</td>\n",
       "      <td>False</td>\n",
       "      <td>False</td>\n",
       "      <td>False</td>\n",
       "      <td>False</td>\n",
       "    </tr>\n",
       "    <tr>\n",
       "      <th>57</th>\n",
       "      <td>False</td>\n",
       "      <td>False</td>\n",
       "      <td>False</td>\n",
       "      <td>False</td>\n",
       "      <td>False</td>\n",
       "      <td>False</td>\n",
       "      <td>False</td>\n",
       "    </tr>\n",
       "    <tr>\n",
       "      <th>58</th>\n",
       "      <td>False</td>\n",
       "      <td>False</td>\n",
       "      <td>False</td>\n",
       "      <td>False</td>\n",
       "      <td>False</td>\n",
       "      <td>False</td>\n",
       "      <td>False</td>\n",
       "    </tr>\n",
       "    <tr>\n",
       "      <th>59</th>\n",
       "      <td>False</td>\n",
       "      <td>False</td>\n",
       "      <td>False</td>\n",
       "      <td>False</td>\n",
       "      <td>False</td>\n",
       "      <td>False</td>\n",
       "      <td>False</td>\n",
       "    </tr>\n",
       "    <tr>\n",
       "      <th>60</th>\n",
       "      <td>False</td>\n",
       "      <td>False</td>\n",
       "      <td>False</td>\n",
       "      <td>False</td>\n",
       "      <td>False</td>\n",
       "      <td>False</td>\n",
       "      <td>False</td>\n",
       "    </tr>\n",
       "    <tr>\n",
       "      <th>61</th>\n",
       "      <td>False</td>\n",
       "      <td>False</td>\n",
       "      <td>False</td>\n",
       "      <td>False</td>\n",
       "      <td>False</td>\n",
       "      <td>False</td>\n",
       "      <td>False</td>\n",
       "    </tr>\n",
       "    <tr>\n",
       "      <th>62</th>\n",
       "      <td>False</td>\n",
       "      <td>False</td>\n",
       "      <td>False</td>\n",
       "      <td>False</td>\n",
       "      <td>False</td>\n",
       "      <td>False</td>\n",
       "      <td>False</td>\n",
       "    </tr>\n",
       "    <tr>\n",
       "      <th>63</th>\n",
       "      <td>False</td>\n",
       "      <td>False</td>\n",
       "      <td>False</td>\n",
       "      <td>False</td>\n",
       "      <td>False</td>\n",
       "      <td>False</td>\n",
       "      <td>False</td>\n",
       "    </tr>\n",
       "    <tr>\n",
       "      <th>64</th>\n",
       "      <td>False</td>\n",
       "      <td>False</td>\n",
       "      <td>False</td>\n",
       "      <td>False</td>\n",
       "      <td>False</td>\n",
       "      <td>False</td>\n",
       "      <td>False</td>\n",
       "    </tr>\n",
       "    <tr>\n",
       "      <th>65</th>\n",
       "      <td>False</td>\n",
       "      <td>False</td>\n",
       "      <td>False</td>\n",
       "      <td>False</td>\n",
       "      <td>False</td>\n",
       "      <td>False</td>\n",
       "      <td>False</td>\n",
       "    </tr>\n",
       "    <tr>\n",
       "      <th>66</th>\n",
       "      <td>False</td>\n",
       "      <td>False</td>\n",
       "      <td>False</td>\n",
       "      <td>False</td>\n",
       "      <td>False</td>\n",
       "      <td>False</td>\n",
       "      <td>False</td>\n",
       "    </tr>\n",
       "    <tr>\n",
       "      <th>67</th>\n",
       "      <td>False</td>\n",
       "      <td>False</td>\n",
       "      <td>False</td>\n",
       "      <td>False</td>\n",
       "      <td>False</td>\n",
       "      <td>False</td>\n",
       "      <td>False</td>\n",
       "    </tr>\n",
       "    <tr>\n",
       "      <th>68</th>\n",
       "      <td>False</td>\n",
       "      <td>False</td>\n",
       "      <td>False</td>\n",
       "      <td>False</td>\n",
       "      <td>False</td>\n",
       "      <td>False</td>\n",
       "      <td>False</td>\n",
       "    </tr>\n",
       "    <tr>\n",
       "      <th>69</th>\n",
       "      <td>False</td>\n",
       "      <td>False</td>\n",
       "      <td>False</td>\n",
       "      <td>False</td>\n",
       "      <td>False</td>\n",
       "      <td>False</td>\n",
       "      <td>False</td>\n",
       "    </tr>\n",
       "  </tbody>\n",
       "</table>\n",
       "</div>"
      ],
      "text/plain": [
       "    Timestamp   Name  Course  Year of Study  Description  Result    res\n",
       "0       False  False   False          False        False   False  False\n",
       "1       False  False   False          False        False   False  False\n",
       "2       False  False   False          False        False   False  False\n",
       "3       False  False   False          False        False   False  False\n",
       "4       False  False   False          False        False   False  False\n",
       "5       False  False   False          False        False   False  False\n",
       "6       False  False   False          False        False   False  False\n",
       "7       False  False   False          False        False   False  False\n",
       "8       False  False   False          False        False   False  False\n",
       "9       False  False   False          False        False   False  False\n",
       "10      False  False   False          False        False   False  False\n",
       "11      False  False   False          False        False   False  False\n",
       "12      False  False   False          False        False   False  False\n",
       "13      False  False   False          False        False   False  False\n",
       "14      False  False   False          False        False   False  False\n",
       "15      False  False   False          False        False   False  False\n",
       "16      False  False   False          False        False   False  False\n",
       "17      False  False   False          False        False   False  False\n",
       "18      False  False   False          False        False   False  False\n",
       "19      False  False   False          False        False   False  False\n",
       "20      False  False   False          False        False   False  False\n",
       "21      False  False   False          False        False   False  False\n",
       "22      False  False   False          False        False   False  False\n",
       "23      False  False   False          False        False   False  False\n",
       "24      False  False   False          False        False   False  False\n",
       "25      False  False   False          False        False   False  False\n",
       "26      False  False   False          False        False   False  False\n",
       "27      False  False   False          False        False   False  False\n",
       "28      False  False   False          False        False   False  False\n",
       "29      False  False   False          False        False   False  False\n",
       "30      False  False   False          False        False   False  False\n",
       "31      False  False   False          False        False   False  False\n",
       "32      False  False   False          False        False   False  False\n",
       "33      False  False   False          False        False   False  False\n",
       "34      False  False   False          False        False   False  False\n",
       "35      False  False   False          False        False   False  False\n",
       "36      False  False   False          False        False   False  False\n",
       "37      False  False   False          False        False   False  False\n",
       "38      False  False   False          False        False   False  False\n",
       "39      False  False   False          False        False   False  False\n",
       "40      False  False   False          False        False   False  False\n",
       "41      False  False   False          False        False   False  False\n",
       "42      False  False   False          False        False   False  False\n",
       "43      False  False   False          False        False   False  False\n",
       "44      False  False   False          False        False   False  False\n",
       "45      False  False   False          False        False   False  False\n",
       "46      False  False   False          False        False   False  False\n",
       "47      False  False   False          False        False   False  False\n",
       "48      False  False   False          False        False   False  False\n",
       "49      False  False   False          False        False   False  False\n",
       "50      False  False   False          False        False   False  False\n",
       "51      False  False   False          False        False   False  False\n",
       "52      False  False   False          False        False   False  False\n",
       "53      False  False   False          False        False   False  False\n",
       "54      False  False   False          False        False   False  False\n",
       "55      False  False   False          False        False   False  False\n",
       "56      False  False   False          False        False   False  False\n",
       "57      False  False   False          False        False   False  False\n",
       "58      False  False   False          False        False   False  False\n",
       "59      False  False   False          False        False   False  False\n",
       "60      False  False   False          False        False   False  False\n",
       "61      False  False   False          False        False   False  False\n",
       "62      False  False   False          False        False   False  False\n",
       "63      False  False   False          False        False   False  False\n",
       "64      False  False   False          False        False   False  False\n",
       "65      False  False   False          False        False   False  False\n",
       "66      False  False   False          False        False   False  False\n",
       "67      False  False   False          False        False   False  False\n",
       "68      False  False   False          False        False   False  False\n",
       "69      False  False   False          False        False   False  False"
      ]
     },
     "execution_count": 25,
     "metadata": {},
     "output_type": "execute_result"
    }
   ],
   "source": [
    "#checking the missing values by boolean \n",
    "data.isna()"
   ]
  },
  {
   "cell_type": "code",
   "execution_count": 26,
   "metadata": {
    "colab": {
     "base_uri": "https://localhost:8080/",
     "height": 195
    },
    "id": "vADNXqqqY6JX",
    "outputId": "e235afac-398c-41cc-b547-a22b42e297a6"
   },
   "outputs": [
    {
     "data": {
      "text/html": [
       "<div>\n",
       "<style scoped>\n",
       "    .dataframe tbody tr th:only-of-type {\n",
       "        vertical-align: middle;\n",
       "    }\n",
       "\n",
       "    .dataframe tbody tr th {\n",
       "        vertical-align: top;\n",
       "    }\n",
       "\n",
       "    .dataframe thead th {\n",
       "        text-align: right;\n",
       "    }\n",
       "</style>\n",
       "<table border=\"1\" class=\"dataframe\">\n",
       "  <thead>\n",
       "    <tr style=\"text-align: right;\">\n",
       "      <th></th>\n",
       "      <th>Timestamp</th>\n",
       "      <th>Name</th>\n",
       "      <th>Course</th>\n",
       "      <th>Year of Study</th>\n",
       "      <th>Description</th>\n",
       "      <th>Result</th>\n",
       "      <th>res</th>\n",
       "    </tr>\n",
       "  </thead>\n",
       "  <tbody>\n",
       "    <tr>\n",
       "      <th>0</th>\n",
       "      <td>False</td>\n",
       "      <td>False</td>\n",
       "      <td>False</td>\n",
       "      <td>False</td>\n",
       "      <td>False</td>\n",
       "      <td>False</td>\n",
       "      <td>False</td>\n",
       "    </tr>\n",
       "    <tr>\n",
       "      <th>1</th>\n",
       "      <td>False</td>\n",
       "      <td>False</td>\n",
       "      <td>False</td>\n",
       "      <td>False</td>\n",
       "      <td>False</td>\n",
       "      <td>False</td>\n",
       "      <td>False</td>\n",
       "    </tr>\n",
       "    <tr>\n",
       "      <th>2</th>\n",
       "      <td>False</td>\n",
       "      <td>False</td>\n",
       "      <td>False</td>\n",
       "      <td>False</td>\n",
       "      <td>False</td>\n",
       "      <td>False</td>\n",
       "      <td>False</td>\n",
       "    </tr>\n",
       "    <tr>\n",
       "      <th>3</th>\n",
       "      <td>False</td>\n",
       "      <td>False</td>\n",
       "      <td>False</td>\n",
       "      <td>False</td>\n",
       "      <td>False</td>\n",
       "      <td>False</td>\n",
       "      <td>False</td>\n",
       "    </tr>\n",
       "    <tr>\n",
       "      <th>4</th>\n",
       "      <td>False</td>\n",
       "      <td>False</td>\n",
       "      <td>False</td>\n",
       "      <td>False</td>\n",
       "      <td>False</td>\n",
       "      <td>False</td>\n",
       "      <td>False</td>\n",
       "    </tr>\n",
       "  </tbody>\n",
       "</table>\n",
       "</div>"
      ],
      "text/plain": [
       "   Timestamp   Name  Course  Year of Study  Description  Result    res\n",
       "0      False  False   False          False        False   False  False\n",
       "1      False  False   False          False        False   False  False\n",
       "2      False  False   False          False        False   False  False\n",
       "3      False  False   False          False        False   False  False\n",
       "4      False  False   False          False        False   False  False"
      ]
     },
     "execution_count": 26,
     "metadata": {},
     "output_type": "execute_result"
    }
   ],
   "source": [
    "data_missing =data.isna()\n",
    "data_missing.head()"
   ]
  },
  {
   "cell_type": "code",
   "execution_count": 27,
   "metadata": {
    "colab": {
     "base_uri": "https://localhost:8080/"
    },
    "id": "wxERcm1zZ0-d",
    "outputId": "5afa5cb2-dc0f-46fb-f21d-a5a282cdcc1b"
   },
   "outputs": [
    {
     "data": {
      "text/plain": [
       "Timestamp        bool\n",
       "Name             bool\n",
       "Course           bool\n",
       "Year of Study    bool\n",
       "Description      bool\n",
       "Result           bool\n",
       "res              bool\n",
       "dtype: object"
      ]
     },
     "execution_count": 27,
     "metadata": {},
     "output_type": "execute_result"
    }
   ],
   "source": [
    "data_missing.dtypes"
   ]
  },
  {
   "cell_type": "code",
   "execution_count": 28,
   "metadata": {
    "colab": {
     "base_uri": "https://localhost:8080/"
    },
    "id": "DvCfXKprZ4JH",
    "outputId": "edbf58cc-ca1f-4dd1-834d-d285d8bcf7fa"
   },
   "outputs": [
    {
     "data": {
      "text/plain": [
       "Timestamp        0\n",
       "Name             0\n",
       "Course           0\n",
       "Year of Study    0\n",
       "Description      0\n",
       "Result           0\n",
       "res              0\n",
       "dtype: int64"
      ]
     },
     "execution_count": 28,
     "metadata": {},
     "output_type": "execute_result"
    }
   ],
   "source": [
    "#checking missing data in features\n",
    "data_missing.sum()"
   ]
  },
  {
   "cell_type": "code",
   "execution_count": 29,
   "metadata": {
    "colab": {
     "base_uri": "https://localhost:8080/",
     "height": 416
    },
    "id": "yho5rD2zZ6gU",
    "outputId": "4c1e7da0-af8e-4357-faee-2685c6260b90"
   },
   "outputs": [
    {
     "name": "stdout",
     "output_type": "stream",
     "text": [
      "percentage for default\n",
      "\n",
      "positive     75.71\n",
      "negative     12.86\n",
      "neutral      11.43\n",
      "Name: Result, dtype: float64\n"
     ]
    },
    {
     "data": {
      "image/png": "[encoded data removed]",
      "text/plain": [
       "<Figure size 432x288 with 1 Axes>"
      ]
     },
     "metadata": {
      "needs_background": "light"
     },
     "output_type": "display_data"
    }
   ],
   "source": [
    "#percentage distribution by review \n",
    "import matplotlib.pyplot as plt\n",
    "%matplotlib inline \n",
    "print('percentage for default\\n')\n",
    "print(round(data.Result.value_counts(normalize=True)*100,2))\n",
    "round(data.Result.value_counts(normalize=True)*100,2).plot(kind='bar')\n",
    "plt.title('percentage distribution by review type')\n",
    "plt.show()"
   ]
  },
  {
   "cell_type": "code",
   "execution_count": 30,
   "metadata": {
    "colab": {
     "base_uri": "https://localhost:8080/"
    },
    "id": "KdwIdP3saLrO",
    "outputId": "079aeeca-8a1b-4359-fe90-b0b2dfd3fb11"
   },
   "outputs": [
    {
     "name": "stdout",
     "output_type": "stream",
     "text": [
      "<class 'pandas.core.frame.DataFrame'>\n",
      "RangeIndex: 70 entries, 0 to 69\n",
      "Data columns (total 7 columns):\n",
      " #   Column         Non-Null Count  Dtype \n",
      "---  ------         --------------  ----- \n",
      " 0   Timestamp      70 non-null     object\n",
      " 1   Name           70 non-null     object\n",
      " 2   Course         70 non-null     object\n",
      " 3   Year of Study  70 non-null     object\n",
      " 4   Description    70 non-null     object\n",
      " 5   Result         70 non-null     object\n",
      " 6   res            70 non-null     int64 \n",
      "dtypes: int64(1), object(6)\n",
      "memory usage: 4.0+ KB\n"
     ]
    }
   ],
   "source": [
    "#checking information of the dataset\n",
    "data.info()"
   ]
  },
  {
   "cell_type": "code",
   "execution_count": 59,
   "metadata": {
    "colab": {
     "base_uri": "https://localhost:8080/",
     "height": 198
    },
    "id": "OSqGjyvWRQXG",
    "outputId": "04a7caba-7dd8-4c30-cdd7-cfd44a82cfe0"
   },
   "outputs": [
    {
     "data": {
      "image/png": "[encoded data removed]",
      "text/plain": [
       "<Figure size 432x288 with 1 Axes>"
      ]
     },
     "metadata": {
      "needs_background": "light"
     },
     "output_type": "display_data"
    }
   ],
   "source": [
    "#see the most used word in the dataset\n",
    "from wordcloud import WordCloud\n",
    "from wordcloud import STOPWORDS\n",
    "import matplotlib.pyplot as plt\n",
    "data=open ('D:\\ML Project\\Stu Feedback (3).csv',\"r\",encoding=\"utf8\")\n",
    "text=data.read()\n",
    "\n",
    "wordcloud = WordCloud(background_color=\"silver\",random_state=412,stopwords=set(STOPWORDS)).generate(text)\n",
    "plt.imshow(wordcloud)\n",
    "\n",
    "plt.axis(\"off\")\n",
    "plt.show()\n"
   ]
  },
  {
   "cell_type": "code",
   "execution_count": 31,
   "metadata": {
    "colab": {
     "base_uri": "https://localhost:8080/",
     "height": 195
    },
    "id": "SovK_lo4aRNr",
    "outputId": "47b17bd0-378c-493e-910e-891e3bf77be6"
   },
   "outputs": [
    {
     "data": {
      "text/html": [
       "<div>\n",
       "<style scoped>\n",
       "    .dataframe tbody tr th:only-of-type {\n",
       "        vertical-align: middle;\n",
       "    }\n",
       "\n",
       "    .dataframe tbody tr th {\n",
       "        vertical-align: top;\n",
       "    }\n",
       "\n",
       "    .dataframe thead th {\n",
       "        text-align: right;\n",
       "    }\n",
       "</style>\n",
       "<table border=\"1\" class=\"dataframe\">\n",
       "  <thead>\n",
       "    <tr style=\"text-align: right;\">\n",
       "      <th></th>\n",
       "      <th>Timestamp</th>\n",
       "      <th>Name</th>\n",
       "      <th>Course</th>\n",
       "      <th>Year of Study</th>\n",
       "      <th>Description</th>\n",
       "      <th>Result</th>\n",
       "      <th>res</th>\n",
       "    </tr>\n",
       "  </thead>\n",
       "  <tbody>\n",
       "    <tr>\n",
       "      <th>0</th>\n",
       "      <td>4/5/2021 13:43</td>\n",
       "      <td>Shruthi J</td>\n",
       "      <td>M.Sc</td>\n",
       "      <td>2</td>\n",
       "      <td>Awesome</td>\n",
       "      <td>positive</td>\n",
       "      <td>0</td>\n",
       "    </tr>\n",
       "    <tr>\n",
       "      <th>1</th>\n",
       "      <td>4/5/2021 13:43</td>\n",
       "      <td>Vaishali.k</td>\n",
       "      <td>M.Sc</td>\n",
       "      <td>2</td>\n",
       "      <td>80%</td>\n",
       "      <td>positive</td>\n",
       "      <td>0</td>\n",
       "    </tr>\n",
       "    <tr>\n",
       "      <th>2</th>\n",
       "      <td>4/5/2021 13:45</td>\n",
       "      <td>Kishore Kumar R</td>\n",
       "      <td>M.Sc</td>\n",
       "      <td>2</td>\n",
       "      <td>Not bad.</td>\n",
       "      <td>neutral</td>\n",
       "      <td>1</td>\n",
       "    </tr>\n",
       "    <tr>\n",
       "      <th>3</th>\n",
       "      <td>4/5/2021 13:46</td>\n",
       "      <td>Karthik</td>\n",
       "      <td>M.Sc</td>\n",
       "      <td>1</td>\n",
       "      <td>good</td>\n",
       "      <td>positive</td>\n",
       "      <td>0</td>\n",
       "    </tr>\n",
       "    <tr>\n",
       "      <th>4</th>\n",
       "      <td>4/5/2021 13:47</td>\n",
       "      <td>Jayasuriya E</td>\n",
       "      <td>M.Sc</td>\n",
       "      <td>2</td>\n",
       "      <td>I feel great.class are going really well compa...</td>\n",
       "      <td>positive</td>\n",
       "      <td>0</td>\n",
       "    </tr>\n",
       "  </tbody>\n",
       "</table>\n",
       "</div>"
      ],
      "text/plain": [
       "        Timestamp             Name Course Year of Study                                        Description     Result  res\n",
       "0  4/5/2021 13:43        Shruthi J   M.Sc             2                                            Awesome  positive     0\n",
       "1  4/5/2021 13:43       Vaishali.k   M.Sc             2                                                80%  positive     0\n",
       "2  4/5/2021 13:45  Kishore Kumar R   M.Sc             2                                           Not bad.    neutral    1\n",
       "3  4/5/2021 13:46          Karthik   M.Sc             1                                               good  positive     0\n",
       "4  4/5/2021 13:47     Jayasuriya E   M.Sc             2  I feel great.class are going really well compa...  positive     0"
      ]
     },
     "execution_count": 31,
     "metadata": {},
     "output_type": "execute_result"
    }
   ],
   "source": [
    "data.head()"
   ]
  },
  {
   "cell_type": "code",
   "execution_count": 32,
   "metadata": {
    "id": "qsf2VKCVaUuU"
   },
   "outputs": [],
   "source": [
    "data.drop('Name',axis=1,inplace=True)"
   ]
  },
  {
   "cell_type": "code",
   "execution_count": 33,
   "metadata": {
    "colab": {
     "base_uri": "https://localhost:8080/",
     "height": 195
    },
    "id": "K0-E4rf6aYJC",
    "outputId": "3ae82649-e37b-4c3d-88c7-37213484a38c"
   },
   "outputs": [
    {
     "data": {
      "text/html": [
       "<div>\n",
       "<style scoped>\n",
       "    .dataframe tbody tr th:only-of-type {\n",
       "        vertical-align: middle;\n",
       "    }\n",
       "\n",
       "    .dataframe tbody tr th {\n",
       "        vertical-align: top;\n",
       "    }\n",
       "\n",
       "    .dataframe thead th {\n",
       "        text-align: right;\n",
       "    }\n",
       "</style>\n",
       "<table border=\"1\" class=\"dataframe\">\n",
       "  <thead>\n",
       "    <tr style=\"text-align: right;\">\n",
       "      <th></th>\n",
       "      <th>Timestamp</th>\n",
       "      <th>Course</th>\n",
       "      <th>Year of Study</th>\n",
       "      <th>Description</th>\n",
       "      <th>Result</th>\n",
       "      <th>res</th>\n",
       "    </tr>\n",
       "  </thead>\n",
       "  <tbody>\n",
       "    <tr>\n",
       "      <th>0</th>\n",
       "      <td>4/5/2021 13:43</td>\n",
       "      <td>M.Sc</td>\n",
       "      <td>2</td>\n",
       "      <td>Awesome</td>\n",
       "      <td>positive</td>\n",
       "      <td>0</td>\n",
       "    </tr>\n",
       "    <tr>\n",
       "      <th>1</th>\n",
       "      <td>4/5/2021 13:43</td>\n",
       "      <td>M.Sc</td>\n",
       "      <td>2</td>\n",
       "      <td>80%</td>\n",
       "      <td>positive</td>\n",
       "      <td>0</td>\n",
       "    </tr>\n",
       "    <tr>\n",
       "      <th>2</th>\n",
       "      <td>4/5/2021 13:45</td>\n",
       "      <td>M.Sc</td>\n",
       "      <td>2</td>\n",
       "      <td>Not bad.</td>\n",
       "      <td>neutral</td>\n",
       "      <td>1</td>\n",
       "    </tr>\n",
       "    <tr>\n",
       "      <th>3</th>\n",
       "      <td>4/5/2021 13:46</td>\n",
       "      <td>M.Sc</td>\n",
       "      <td>1</td>\n",
       "      <td>good</td>\n",
       "      <td>positive</td>\n",
       "      <td>0</td>\n",
       "    </tr>\n",
       "    <tr>\n",
       "      <th>4</th>\n",
       "      <td>4/5/2021 13:47</td>\n",
       "      <td>M.Sc</td>\n",
       "      <td>2</td>\n",
       "      <td>I feel great.class are going really well compa...</td>\n",
       "      <td>positive</td>\n",
       "      <td>0</td>\n",
       "    </tr>\n",
       "  </tbody>\n",
       "</table>\n",
       "</div>"
      ],
      "text/plain": [
       "        Timestamp Course Year of Study                                        Description     Result  res\n",
       "0  4/5/2021 13:43   M.Sc             2                                            Awesome  positive     0\n",
       "1  4/5/2021 13:43   M.Sc             2                                                80%  positive     0\n",
       "2  4/5/2021 13:45   M.Sc             2                                           Not bad.    neutral    1\n",
       "3  4/5/2021 13:46   M.Sc             1                                               good  positive     0\n",
       "4  4/5/2021 13:47   M.Sc             2  I feel great.class are going really well compa...  positive     0"
      ]
     },
     "execution_count": 33,
     "metadata": {},
     "output_type": "execute_result"
    }
   ],
   "source": [
    "data.head()"
   ]
  },
  {
   "cell_type": "code",
   "execution_count": 34,
   "metadata": {
    "id": "lZiwjCzyabC5"
   },
   "outputs": [],
   "source": [
    "# Dropping the unwanted columns\n",
    "data.drop(['Timestamp','Course','Year of Study'],axis=1,inplace=True)"
   ]
  },
  {
   "cell_type": "code",
   "execution_count": 35,
   "metadata": {
    "colab": {
     "base_uri": "https://localhost:8080/",
     "height": 195
    },
    "id": "xdkJftSfadxV",
    "outputId": "e0ed4016-e879-48fb-f98f-6acd6410413a"
   },
   "outputs": [
    {
     "data": {
      "text/html": [
       "<div>\n",
       "<style scoped>\n",
       "    .dataframe tbody tr th:only-of-type {\n",
       "        vertical-align: middle;\n",
       "    }\n",
       "\n",
       "    .dataframe tbody tr th {\n",
       "        vertical-align: top;\n",
       "    }\n",
       "\n",
       "    .dataframe thead th {\n",
       "        text-align: right;\n",
       "    }\n",
       "</style>\n",
       "<table border=\"1\" class=\"dataframe\">\n",
       "  <thead>\n",
       "    <tr style=\"text-align: right;\">\n",
       "      <th></th>\n",
       "      <th>Description</th>\n",
       "      <th>Result</th>\n",
       "      <th>res</th>\n",
       "    </tr>\n",
       "  </thead>\n",
       "  <tbody>\n",
       "    <tr>\n",
       "      <th>0</th>\n",
       "      <td>Awesome</td>\n",
       "      <td>positive</td>\n",
       "      <td>0</td>\n",
       "    </tr>\n",
       "    <tr>\n",
       "      <th>1</th>\n",
       "      <td>80%</td>\n",
       "      <td>positive</td>\n",
       "      <td>0</td>\n",
       "    </tr>\n",
       "    <tr>\n",
       "      <th>2</th>\n",
       "      <td>Not bad.</td>\n",
       "      <td>neutral</td>\n",
       "      <td>1</td>\n",
       "    </tr>\n",
       "    <tr>\n",
       "      <th>3</th>\n",
       "      <td>good</td>\n",
       "      <td>positive</td>\n",
       "      <td>0</td>\n",
       "    </tr>\n",
       "    <tr>\n",
       "      <th>4</th>\n",
       "      <td>I feel great.class are going really well compa...</td>\n",
       "      <td>positive</td>\n",
       "      <td>0</td>\n",
       "    </tr>\n",
       "  </tbody>\n",
       "</table>\n",
       "</div>"
      ],
      "text/plain": [
       "                                         Description     Result  res\n",
       "0                                            Awesome  positive     0\n",
       "1                                                80%  positive     0\n",
       "2                                           Not bad.    neutral    1\n",
       "3                                               good  positive     0\n",
       "4  I feel great.class are going really well compa...  positive     0"
      ]
     },
     "execution_count": 35,
     "metadata": {},
     "output_type": "execute_result"
    }
   ],
   "source": [
    "data.head()"
   ]
  },
  {
   "cell_type": "markdown",
   "metadata": {},
   "source": [
    "# Data preprocessing"
   ]
  },
  {
   "cell_type": "code",
   "execution_count": 38,
   "metadata": {
    "colab": {
     "base_uri": "https://localhost:8080/"
    },
    "id": "r5xLm5imEzRQ",
    "outputId": "28be9158-3c2c-41bb-83c2-782ebf75ac92"
   },
   "outputs": [],
   "source": [
    "from nltk.tokenize import word_tokenize\n",
    "import re\n",
    "import nltk\n",
    "from nltk.corpus import stopwords\n",
    "from nltk.stem import WordNetLemmatizer\n",
    "from nltk.stem import PorterStemmer"
   ]
  },
  {
   "cell_type": "code",
   "execution_count": 43,
   "metadata": {
    "colab": {
     "base_uri": "https://localhost:8080/",
     "height": 421
    },
    "id": "hHxRNNDEFIAk",
    "outputId": "980fc15d-7e89-4b82-968a-c5eedccc493f"
   },
   "outputs": [],
   "source": [
    "corpus = []\n",
    "for i in range (0,70):\n",
    "    Description\t = re.sub('[^a-zA-Z]',\" \",data[\"Description\"][i])\n",
    "    Description = Description.lower()\n",
    "    Description = Description.split()\n",
    "    pe=PorterStemmer()\n",
    "    all_stopword=stopwords.words('english')\n",
    "    type (all_stopword)\n",
    "    all_stopword.remove(\"not\")\n",
    "    Description = [pe.stem(word) for word in Description if not word in set (all_stopword)]\n",
    "    Description=\" \".join(Description)\n",
    "    corpus.append(Description)"
   ]
  },
  {
   "cell_type": "code",
   "execution_count": 44,
   "metadata": {},
   "outputs": [
    {
     "data": {
      "text/plain": [
       "['awesom',\n",
       " '',\n",
       " 'not bad',\n",
       " 'good',\n",
       " 'feel great class go realli well compar last sem onlin class',\n",
       " 'good',\n",
       " 'good',\n",
       " 'felt good issu colleg wifi password not given us jio wifi not work work fine st year everi saturday holiday good move us rest focu non academ activ',\n",
       " 'grow experi',\n",
       " 'everyth fine',\n",
       " 'everyth great',\n",
       " 'everyth feel comfort',\n",
       " 'noth',\n",
       " 'sorri experienc colleg yet',\n",
       " 'noth',\n",
       " 'good',\n",
       " 'everyth go fine onlin class class offlin would much better',\n",
       " 'mostli onlin interact much',\n",
       " 'dint experi anyth yet',\n",
       " 'nice environ',\n",
       " 'nice',\n",
       " 'good experi',\n",
       " 'averag good',\n",
       " 'good give wonder experi mani tortur project submiss also intern mark evalu',\n",
       " 'librari good nice climat insid campu',\n",
       " 'almost wonder experi',\n",
       " 'good colleg great atmospher',\n",
       " 'gain knowledg',\n",
       " 'good',\n",
       " 'colleg good educ',\n",
       " 'good regard academ poor term hostel mess food',\n",
       " 'like experi school life',\n",
       " 'awesom experi',\n",
       " 'nice',\n",
       " 'kind fun',\n",
       " 'good',\n",
       " 'good could better',\n",
       " 'good',\n",
       " 'best',\n",
       " 'good experi',\n",
       " 'nice place enjoy learn',\n",
       " 'good',\n",
       " 'noth new learn lead life',\n",
       " 'averag level need improvis lot especi internet connect student necess like food',\n",
       " 'wast money',\n",
       " 'simpli wast',\n",
       " 'nil',\n",
       " 'got mani good friend like teacher see discrimin dislik',\n",
       " 'fun interest place meet peopl learn new thing',\n",
       " 'godd',\n",
       " 'get much colleg life first semest bound restrict remain covid',\n",
       " 'simpli wast placement practic',\n",
       " 'excit experi',\n",
       " 'colleg manag infra etc good student expect compani placement better even pandem compani good number hope worthi one futur',\n",
       " 'colleg laam nalla dhaan iruku lab uniform colour maathunga yaa bu driver ah student ah nu kandu pudika kashtama iruku',\n",
       " 'coach good way lab facil upgrad infrastructur convinc',\n",
       " 'nice',\n",
       " 'level teach good manag easi approach',\n",
       " 'colleg heaven beauti soul place take us good posit life colleg life posit neg gain us experi face real life problem strength overcom handl kind situat colleg life give us beauti memori long last relationship golden period everyon life',\n",
       " 'good faculti good librari good student rage colleg campu top colleg one colleg colleg total neat peac',\n",
       " 'good colleg',\n",
       " 'h',\n",
       " 'good interact friend explor colleg new feel fresher rather onlin offlin give us spirit work energet',\n",
       " 'good',\n",
       " 'good',\n",
       " 'good',\n",
       " 'best lovabl journey ever travel faculti good experienc infrastructur averag ambianc good',\n",
       " 'good use',\n",
       " '',\n",
       " 'hostel life best far cit concern']"
      ]
     },
     "execution_count": 44,
     "metadata": {},
     "output_type": "execute_result"
    }
   ],
   "source": [
    "corpus"
   ]
  },
  {
   "cell_type": "code",
   "execution_count": 45,
   "metadata": {
    "id": "2J7i8Wb_Cd9U"
   },
   "outputs": [],
   "source": [
    "#using countvectorizer vectorizer- used to convert a collection of text documents to a vector of term\n",
    "import numpy as np\n",
    "from sklearn.feature_extraction.text import CountVectorizer\n",
    "cv = CountVectorizer(max_features=200)\n",
    "X = cv.fit_transform(corpus).toarray()\n",
    "y= data['res']"
   ]
  },
  {
   "cell_type": "code",
   "execution_count": 46,
   "metadata": {
    "colab": {
     "base_uri": "https://localhost:8080/"
    },
    "id": "UXUjYaxFCl0_",
    "outputId": "c142f87d-348d-45f4-a2d1-780ba64c0106"
   },
   "outputs": [
    {
     "data": {
      "text/plain": [
       "200"
      ]
     },
     "execution_count": 46,
     "metadata": {},
     "output_type": "execute_result"
    }
   ],
   "source": [
    "len(X[0])"
   ]
  },
  {
   "cell_type": "markdown",
   "metadata": {},
   "source": [
    "# TRAINING AND TEST DATA SPLIT"
   ]
  },
  {
   "cell_type": "code",
   "execution_count": 47,
   "metadata": {
    "colab": {
     "base_uri": "https://localhost:8080/"
    },
    "id": "cb9OnBwcDpVR",
    "outputId": "cb6de4c9-a7d3-4de4-adc2-81f21a08d0c2"
   },
   "outputs": [
    {
     "data": {
      "text/plain": [
       "((56, 200), (14,))"
      ]
     },
     "execution_count": 47,
     "metadata": {},
     "output_type": "execute_result"
    }
   ],
   "source": [
    "from sklearn.model_selection import train_test_split\n",
    "X_train,X_test,y_train,y_test = train_test_split(X,y,test_size=0.2,random_state=0)\n",
    "X_train.shape , y_test.shape"
   ]
  },
  {
   "cell_type": "markdown",
   "metadata": {},
   "source": [
    "# MODEL BUILDING"
   ]
  },
  {
   "cell_type": "code",
   "execution_count": 48,
   "metadata": {
    "id": "3RcA5nJiGw7l"
   },
   "outputs": [],
   "source": [
    "from sklearn.naive_bayes import GaussianNB,MultinomialNB\n",
    "classifier = GaussianNB().fit(X_train,y_train)\n",
    "cls = MultinomialNB().fit(X_train,y_train)"
   ]
  },
  {
   "cell_type": "code",
   "execution_count": 63,
   "metadata": {},
   "outputs": [
    {
     "data": {
      "text/plain": [
       "0.9285714285714286"
      ]
     },
     "execution_count": 63,
     "metadata": {},
     "output_type": "execute_result"
    }
   ],
   "source": [
    "#TRAINING SCORE OF MultinomialNB\n",
    "cls.score(X_train,y_train)"
   ]
  },
  {
   "cell_type": "code",
   "execution_count": 49,
   "metadata": {
    "colab": {
     "base_uri": "https://localhost:8080/"
    },
    "id": "RRbDjC-ZHd32",
    "outputId": "ea5c01ee-0325-4dcf-e800-8d301da74427"
   },
   "outputs": [
    {
     "data": {
      "text/plain": [
       "0.8571428571428571"
      ]
     },
     "execution_count": 49,
     "metadata": {},
     "output_type": "execute_result"
    }
   ],
   "source": [
    "#testing score OF MultinomialNB\n",
    "cls.score(X_test,y_test)"
   ]
  },
  {
   "cell_type": "code",
   "execution_count": 65,
   "metadata": {},
   "outputs": [
    {
     "data": {
      "text/plain": [
       "0.6964285714285714"
      ]
     },
     "execution_count": 65,
     "metadata": {},
     "output_type": "execute_result"
    }
   ],
   "source": [
    "#Training score of GaussianNB\n",
    "classifier.score(X_train,y_train)"
   ]
  },
  {
   "cell_type": "code",
   "execution_count": 66,
   "metadata": {
    "colab": {
     "base_uri": "https://localhost:8080/"
    },
    "id": "GUbDcrmzHkiz",
    "outputId": "b05ff957-b721-4b8f-b32d-76b560eac18b"
   },
   "outputs": [
    {
     "data": {
      "text/plain": [
       "0.7142857142857143"
      ]
     },
     "execution_count": 66,
     "metadata": {},
     "output_type": "execute_result"
    }
   ],
   "source": [
    "#TEST SCORE OF GaussianNB\n",
    "classifier.score(X_test,y_test)"
   ]
  },
  {
   "cell_type": "code",
   "execution_count": 51,
   "metadata": {
    "colab": {
     "base_uri": "https://localhost:8080/"
    },
    "id": "l2Stfxq3HrEz",
    "outputId": "458beb38-1740-4b2a-a555-bcfe2c9d19be"
   },
   "outputs": [
    {
     "data": {
      "text/plain": [
       "pandas.core.series.Series"
      ]
     },
     "execution_count": 51,
     "metadata": {},
     "output_type": "execute_result"
    }
   ],
   "source": [
    "y_pred = cls.predict(X_test)\n",
    "type(y_test)"
   ]
  },
  {
   "cell_type": "code",
   "execution_count": 52,
   "metadata": {
    "colab": {
     "base_uri": "https://localhost:8080/"
    },
    "id": "gi33x-PyIkUF",
    "outputId": "bb6cb2d7-dd4e-4840-a3bb-7f8152d00a24"
   },
   "outputs": [
    {
     "name": "stdout",
     "output_type": "stream",
     "text": [
      "[[0 0]\n",
      " [0 0]\n",
      " [0 0]\n",
      " [0 0]\n",
      " [0 0]\n",
      " [2 2]\n",
      " [1 0]\n",
      " [0 0]\n",
      " [0 0]\n",
      " [0 0]\n",
      " [0 0]\n",
      " [0 0]\n",
      " [0 0]\n",
      " [0 1]]\n"
     ]
    }
   ],
   "source": [
    "print(np.concatenate((y_pred.reshape(len(y_pred),1),np.array(y_test).reshape(len(y_test),1)),1))"
   ]
  },
  {
   "cell_type": "code",
   "execution_count": 53,
   "metadata": {
    "colab": {
     "base_uri": "https://localhost:8080/"
    },
    "id": "UI5msUBYJUGi",
    "outputId": "c191c77e-8b71-41de-a379-e8f9dc111010"
   },
   "outputs": [
    {
     "name": "stdout",
     "output_type": "stream",
     "text": [
      "[[11  1  0]\n",
      " [ 1  0  0]\n",
      " [ 0  0  1]] 85.71428571428571\n"
     ]
    }
   ],
   "source": [
    "#Evaluation metrics\n",
    "from sklearn.metrics import confusion_matrix,accuracy_score\n",
    "cm = confusion_matrix(y_test,y_pred)\n",
    "score= accuracy_score(y_test,y_pred)\n",
    "print(cm,score*100)"
   ]
  },
  {
   "cell_type": "code",
   "execution_count": 54,
   "metadata": {
    "colab": {
     "base_uri": "https://localhost:8080/"
    },
    "id": "QknJedhKJ6Iu",
    "outputId": "de047451-3c21-4df6-d0fe-5500ec02a684"
   },
   "outputs": [
    {
     "data": {
      "text/plain": [
       "pandas.core.series.Series"
      ]
     },
     "execution_count": 54,
     "metadata": {},
     "output_type": "execute_result"
    }
   ],
   "source": [
    "type (y_test)"
   ]
  },
  {
   "cell_type": "markdown",
   "metadata": {},
   "source": [
    "### Pickling"
   ]
  },
  {
   "cell_type": "code",
   "execution_count": 55,
   "metadata": {
    "id": "LBxrd3oVKVTQ"
   },
   "outputs": [],
   "source": [
    "import pickle\n",
    "pickle.dump(cls,open(\"Description.pkl\",\"wb\"))"
   ]
  },
  {
   "cell_type": "code",
   "execution_count": 56,
   "metadata": {
    "colab": {
     "base_uri": "https://localhost:8080/"
    },
    "id": "UwZ-bYJjKwVa",
    "outputId": "74a3d93e-c33a-4b9a-ad55-528a29907adf"
   },
   "outputs": [
    {
     "data": {
      "text/plain": [
       "0.8571428571428571"
      ]
     },
     "execution_count": 56,
     "metadata": {},
     "output_type": "execute_result"
    }
   ],
   "source": [
    "loaded_model = pickle.load(open(\"Description.pkl\",\"rb\"))\n",
    "loaded_model.predict(X_test)\n",
    "loaded_model.score(X_test,y_test)"
   ]
  },
  {
   "cell_type": "markdown",
   "metadata": {},
   "source": [
    "# Checking for the new reviews"
   ]
  },
  {
   "cell_type": "code",
   "execution_count": 57,
   "metadata": {
    "colab": {
     "base_uri": "https://localhost:8080/"
    },
    "id": "OaRoyoQILLUO",
    "outputId": "acec0361-f06e-401c-b00c-7fd791bbcaff"
   },
   "outputs": [
    {
     "name": "stdout",
     "output_type": "stream",
     "text": [
      "Enter new review:CIT is a good college\n",
      "(1, 200)\n",
      "positive\n"
     ]
    }
   ],
   "source": [
    "def new_Description(new_Description):\n",
    "    new_Description =new_Description\n",
    "    new_Description  = re.sub('[^a-zA-Z]',\" \",new_Description)\n",
    "    new_Description = new_Description.lower()\n",
    "    new_Description = new_Description.split()\n",
    "    ps=PorterStemmer()\n",
    "    all_stopwords=stopwords.words('english')\n",
    "    all_stopwords.remove('not')\n",
    "    new_Description= [ps.stem(word) for word in new_Description if not word in set (all_stopwords)]\n",
    "    new_Description=' '.join(new_Description)\n",
    "    new_corpus=[new_Description]\n",
    "    new_X_test = cv.transform(new_corpus).toarray()\n",
    "    print(new_X_test.shape)\n",
    "    new_y_pred = loaded_model.predict(new_X_test)\n",
    "    return new_y_pred\n",
    "    \n",
    "new_Description = new_Description( str ( input (\"Enter new review:\")))\n",
    "if new_Description[0]==0:\n",
    "  print(\"positive\")\n",
    "else:\n",
    "  print(\"negative\")\n",
    "\n",
    "\n",
    "\n",
    "        \n",
    "  \n",
    "     "
   ]
  },
  {
   "cell_type": "code",
   "execution_count": null,
   "metadata": {
    "id": "JtfT26iQTfWg"
   },
   "outputs": [],
   "source": []
  },
  {
   "cell_type": "code",
   "execution_count": null,
   "metadata": {},
   "outputs": [],
   "source": []
  }
 ],
 "metadata": {
  "colab": {
   "collapsed_sections": [],
   "name": "Copy of Untitled0.ipynb",
   "provenance": []
  },
  "kernelspec": {
   "display_name": "Python 3",
   "language": "python",
   "name": "python3"
  },
  "language_info": {
   "codemirror_mode": {
    "name": "ipython",
    "version": 3
   },
   "file_extension": ".py",
   "mimetype": "text/x-python",
   "name": "python",
   "nbconvert_exporter": "python",
   "pygments_lexer": "ipython3",
   "version": "3.8.8"
  }
 },
 "nbformat": 4,
 "nbformat_minor": 1
}
